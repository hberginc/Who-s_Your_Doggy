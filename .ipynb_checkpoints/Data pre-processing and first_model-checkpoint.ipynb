{
 "cells": [
  {
   "cell_type": "code",
   "execution_count": 55,
   "metadata": {},
   "outputs": [
    {
     "ename": "ImportError",
     "evalue": "cannot import name 'create_transfer_model'",
     "output_type": "error",
     "traceback": [
      "\u001b[0;31m\u001b[0m",
      "\u001b[0;31mImportError\u001b[0mTraceback (most recent call last)",
      "\u001b[0;32m<ipython-input-55-10908119ecf3>\u001b[0m in \u001b[0;36m<module>\u001b[0;34m\u001b[0m\n\u001b[1;32m     28\u001b[0m \u001b[0;34m\u001b[0m\u001b[0m\n\u001b[1;32m     29\u001b[0m \u001b[0;32mfrom\u001b[0m \u001b[0msrc\u001b[0m\u001b[0;34m.\u001b[0m\u001b[0mhelper_functions\u001b[0m \u001b[0;32mimport\u001b[0m \u001b[0;34m*\u001b[0m\u001b[0;34m\u001b[0m\u001b[0m\n\u001b[0;32m---> 30\u001b[0;31m \u001b[0;32mfrom\u001b[0m \u001b[0msrc\u001b[0m\u001b[0;34m.\u001b[0m\u001b[0mbuild_models\u001b[0m \u001b[0;32mimport\u001b[0m \u001b[0mbasic_cnn\u001b[0m\u001b[0;34m,\u001b[0m \u001b[0mcreate_data_gens\u001b[0m\u001b[0;34m,\u001b[0m \u001b[0mcreate_transfer_model\u001b[0m\u001b[0;34m\u001b[0m\u001b[0m\n\u001b[0m",
      "\u001b[0;31mImportError\u001b[0m: cannot import name 'create_transfer_model'"
     ]
    }
   ],
   "source": [
    "from tensorflow import keras\n",
    "from tensorflow.keras.preprocessing.image import (ImageDataGenerator, \n",
    "                                                  array_to_img, img_to_array, \n",
    "                                                  load_img) \n",
    "from tensorflow.keras.models import Sequential, Model\n",
    "from tensorflow.keras.layers import Conv2D, MaxPooling2D, GlobalAveragePooling2D\n",
    "from tensorflow.keras.layers import Activation, Dropout, Flatten, Dense\n",
    "from tensorflow.keras.datasets import mnist\n",
    "from tensorflow.keras.utils import to_categorical\n",
    "from tensorflow.keras import backend as K\n",
    "import pandas as pd\n",
    "import numpy as np\n",
    "import matplotlib.pyplot as plt\n",
    "\n",
    "import os\n",
    "\n",
    "import warnings\n",
    "warnings.filterwarnings(\"ignore\")\n",
    "\n",
    "import matplotlib.image as mpimg\n",
    "import pathlib\n",
    "from tensorflow.keras.applications.xception import preprocess_input\n",
    "from tensorflow.keras.callbacks import TensorBoard, EarlyStopping, ModelCheckpoint\n",
    "import tensorflow as tf\n",
    "from tensorflow.keras.applications import VGG16, Xception\n",
    "\n",
    "\n",
    "\n",
    "from src.helper_functions import *\n",
    "from src.build_models import basic_cnn, create_data_gens, create_transfer_model"
   ]
  },
  {
   "cell_type": "markdown",
   "metadata": {},
   "source": [
    "\n",
    "    rotation_range is a value in degrees (0-180), a range within which to randomly rotate pictures\n",
    "    width_shift and height_shift are ranges (as a fraction of total width or height) within which to randomly translate pictures vertically or horizontally\n",
    "    rescale is a value by which we will multiply the data before any other processing. Our original images consist in RGB coefficients in the 0-255, but such values would be too high for our models to process (given a typical learning rate), so we target values between 0 and 1 instead by scaling with a 1/255. factor.\n",
    "    shear_range is for randomly applying shearing transformations\n",
    "    zoom_range is for randomly zooming inside pictures\n",
    "    horizontal_flip is for randomly flipping half of the images horizontally --relevant when there are no assumptions of horizontal assymetry (e.g. real-world pictures).\n",
    "    fill_mode is the strategy used for filling in newly created pixels, which can appear after a rotation or a width/height shift.\n"
   ]
  },
  {
   "cell_type": "code",
   "execution_count": 30,
   "metadata": {},
   "outputs": [],
   "source": [
    "datagen = ImageDataGenerator(\n",
    "        rotation_range=40,\n",
    "        width_shift_range=0.2,\n",
    "        height_shift_range=0.2,\n",
    "        rescale = 1/255,\n",
    "        shear_range = 0.2,\n",
    "        zoom_range=0.2,\n",
    "        horizontal_flip=True,\n",
    "        fill_mode='nearest'\n",
    "        )"
   ]
  },
  {
   "cell_type": "code",
   "execution_count": 31,
   "metadata": {},
   "outputs": [
    {
     "name": "stderr",
     "output_type": "stream",
     "text": [
      "W0915 16:51:43.100574 140469265278720 callbacks.py:1191] `write_grads` will be ignored in TensorFlow 2.0 for the `TensorBoard` Callback.\n",
      "W0915 16:51:43.101813 140469265278720 callbacks.py:1197] `batch_size` is no longer needed in the `TensorBoard` Callback and will be ignored in TensorFlow 2.0.\n"
     ]
    }
   ],
   "source": [
    "#  Added for Tensorboard\n",
    "tensorboard = TensorBoard(log_dir='./logs',\n",
    "                          histogram_freq=2,\n",
    "                          batch_size=16,\n",
    "                          write_graph=True,\n",
    "                          write_grads=True,\n",
    "                          write_images=True,\n",
    "\n",
    "                         ) \n",
    "early_stopping = EarlyStopping(restore_best_weights = True, patience = 2, monitor='val_loss')\n",
    "# modified for Tensorboard\n"
   ]
  },
  {
   "cell_type": "code",
   "execution_count": 33,
   "metadata": {},
   "outputs": [],
   "source": [
    "model = basic_cnn(n_categs = 25)"
   ]
  },
  {
   "cell_type": "code",
   "execution_count": 34,
   "metadata": {},
   "outputs": [
    {
     "name": "stdout",
     "output_type": "stream",
     "text": [
      "Found 3034 images belonging to 25 classes.\n",
      "Found 650 images belonging to 25 classes.\n"
     ]
    }
   ],
   "source": [
    "batch_size = 16\n",
    "\n",
    "# this is the augmentation configuration we will use for training\n",
    "train_datagen = ImageDataGenerator(\n",
    "        rescale=1./255,\n",
    "        shear_range=0.2,\n",
    "        zoom_range=0.2,\n",
    "        horizontal_flip=True)\n",
    "\n",
    "# this is the augmentation configuration we will use for testing:\n",
    "# only rescaling\n",
    "test_datagen = ImageDataGenerator(rescale=1./255)\n",
    "\n",
    "# this is a generator that will read pictures found in\n",
    "# subfolers of 'data/train', and indefinitely generate\n",
    "# batches of augmented image data\n",
    "train_generator = train_datagen.flow_from_directory(\n",
    "        '../images/Images/train',  # this is the target directory\n",
    "        target_size=(150, 150),  # all images will be resized to 150x150\n",
    "        batch_size=batch_size,\n",
    "        class_mode='categorical')  # since we use CategoricalCrossentropy loss, we need categorical labels\n",
    "\n",
    "# this is a similar generator, for validation data\n",
    "validation_generator = test_datagen.flow_from_directory(\n",
    "        '../images/Images/val',\n",
    "        target_size=(150, 150),\n",
    "        batch_size=batch_size,\n",
    "        class_mode='categorical')"
   ]
  },
  {
   "cell_type": "code",
   "execution_count": 35,
   "metadata": {},
   "outputs": [
    {
     "name": "stdout",
     "output_type": "stream",
     "text": [
      "Epoch 1/10\n",
      "125/125 [==============================] - 33s 268ms/step - loss: 51.5235 - accuracy: 0.0386 - val_loss: 51.0633 - val_accuracy: 0.0428\n",
      "Epoch 2/10\n",
      "125/125 [==============================] - 34s 268ms/step - loss: 51.3206 - accuracy: 0.0522 - val_loss: 51.0317 - val_accuracy: 0.0529\n",
      "Epoch 3/10\n",
      "125/125 [==============================] - 34s 271ms/step - loss: 51.1732 - accuracy: 0.0670 - val_loss: 50.1309 - val_accuracy: 0.0668\n",
      "Epoch 4/10\n",
      "125/125 [==============================] - 36s 286ms/step - loss: 50.2685 - accuracy: 0.0883 - val_loss: 48.8129 - val_accuracy: 0.1071\n",
      "Epoch 5/10\n",
      "125/125 [==============================] - 34s 271ms/step - loss: 48.9578 - accuracy: 0.1025 - val_loss: 48.5068 - val_accuracy: 0.1071\n",
      "Epoch 6/10\n",
      "125/125 [==============================] - 33s 265ms/step - loss: 47.9133 - accuracy: 0.1219 - val_loss: 46.7009 - val_accuracy: 0.1599\n",
      "Epoch 7/10\n",
      "125/125 [==============================] - 35s 277ms/step - loss: 46.6997 - accuracy: 0.1384 - val_loss: 45.8622 - val_accuracy: 0.1587\n",
      "Epoch 8/10\n",
      "125/125 [==============================] - 33s 263ms/step - loss: 46.7540 - accuracy: 0.1470 - val_loss: 45.4902 - val_accuracy: 0.1826\n",
      "Epoch 9/10\n",
      "125/125 [==============================] - 33s 263ms/step - loss: 46.0019 - accuracy: 0.1454 - val_loss: 44.8761 - val_accuracy: 0.1952\n",
      "Epoch 10/10\n",
      "125/125 [==============================] - 34s 272ms/step - loss: 45.1670 - accuracy: 0.1705 - val_loss: 44.6506 - val_accuracy: 0.1977\n"
     ]
    }
   ],
   "source": [
    "epochs = 10\n",
    "history = model.fit(\n",
    "        train_generator,\n",
    "        steps_per_epoch=2000 // batch_size,\n",
    "        epochs=epochs,\n",
    "        validation_data=validation_generator,\n",
    "        validation_steps=800 // batch_size,\n",
    "        verbose = 1,\n",
    "        callbacks=[tensorboard, early_stopping])\n",
    "model.save_weights('first_try_25.h5')  # always save your weights after training or during training"
   ]
  },
  {
   "cell_type": "code",
   "execution_count": 38,
   "metadata": {},
   "outputs": [
    {
     "data": {
      "image/png": "[encoded data removed]",
      "text/plain": [
       "<Figure size 576x576 with 2 Axes>"
      ]
     },
     "metadata": {
      "needs_background": "light"
     },
     "output_type": "display_data"
    },
    {
     "data": {
      "text/plain": [
       "<Figure size 432x288 with 0 Axes>"
      ]
     },
     "metadata": {},
     "output_type": "display_data"
    }
   ],
   "source": [
    "plot_acc_loss_per_epoch(history, epochs = 10)\n",
    "# plt.savefig('25_breed_basic_cnn.png')"
   ]
  },
  {
   "cell_type": "code",
   "execution_count": 39,
   "metadata": {},
   "outputs": [
    {
     "name": "stdout",
     "output_type": "stream",
     "text": [
      "TensorBoard 1.14.0a20190301 at http://43a7ce3886b3:8889 (Press CTRL+C to quit)\n",
      "^C\n"
     ]
    }
   ],
   "source": [
    "!tensorboard --logdir=logs/ --port=8889"
   ]
  },
  {
   "cell_type": "code",
   "execution_count": null,
   "metadata": {},
   "outputs": [],
   "source": []
  },
  {
   "cell_type": "markdown",
   "metadata": {},
   "source": [
    "VGG16 architecture, pre-trained on the ImageNet dataset "
   ]
  },
  {
   "cell_type": "code",
   "execution_count": 50,
   "metadata": {},
   "outputs": [
    {
     "ename": "NameError",
     "evalue": "name 'create_transfer_model' is not defined",
     "output_type": "error",
     "traceback": [
      "\u001b[0;31m\u001b[0m",
      "\u001b[0;31mNameError\u001b[0mTraceback (most recent call last)",
      "\u001b[0;32m<ipython-input-50-c73fbd4c40bb>\u001b[0m in \u001b[0;36m<module>\u001b[0;34m\u001b[0m\n\u001b[0;32m----> 1\u001b[0;31m \u001b[0mtransfer_model\u001b[0m \u001b[0;34m=\u001b[0m \u001b[0mcreate_transfer_model\u001b[0m\u001b[0;34m(\u001b[0m\u001b[0minput_size\u001b[0m\u001b[0;34m=\u001b[0m\u001b[0;34m(\u001b[0m\u001b[0;36m150\u001b[0m\u001b[0;34m,\u001b[0m\u001b[0;36m150\u001b[0m\u001b[0;34m,\u001b[0m\u001b[0;36m3\u001b[0m\u001b[0;34m)\u001b[0m\u001b[0;34m,\u001b[0m \u001b[0mn_categories\u001b[0m\u001b[0;34m=\u001b[0m\u001b[0;36m5\u001b[0m\u001b[0;34m)\u001b[0m\u001b[0;34m\u001b[0m\u001b[0m\n\u001b[0m",
      "\u001b[0;31mNameError\u001b[0m: name 'create_transfer_model' is not defined"
     ]
    }
   ],
   "source": [
    "transfer_model = create_transfer_model(input_size=(150,150,3), n_categories=5)"
   ]
  },
  {
   "cell_type": "code",
   "execution_count": 42,
   "metadata": {},
   "outputs": [
    {
     "ename": "NameError",
     "evalue": "name 'print_model_properties' is not defined",
     "output_type": "error",
     "traceback": [
      "\u001b[0;31m\u001b[0m",
      "\u001b[0;31mNameError\u001b[0mTraceback (most recent call last)",
      "\u001b[0;32m<ipython-input-42-42e61e2018d4>\u001b[0m in \u001b[0;36m<module>\u001b[0;34m\u001b[0m\n\u001b[0;32m----> 1\u001b[0;31m \u001b[0mprint_model_properties\u001b[0m\u001b[0;34m(\u001b[0m\u001b[0mtranser_model\u001b[0m\u001b[0;34m)\u001b[0m\u001b[0;34m\u001b[0m\u001b[0m\n\u001b[0m",
      "\u001b[0;31mNameError\u001b[0m: name 'print_model_properties' is not defined"
     ]
    }
   ],
   "source": [
    "print_model_properties(transer_model)"
   ]
  },
  {
   "cell_type": "code",
   "execution_count": 41,
   "metadata": {},
   "outputs": [
    {
     "ename": "NameError",
     "evalue": "name 'change_trainable_layers' is not defined",
     "output_type": "error",
     "traceback": [
      "\u001b[0;31m\u001b[0m",
      "\u001b[0;31mNameError\u001b[0mTraceback (most recent call last)",
      "\u001b[0;32m<ipython-input-41-13abf770e86e>\u001b[0m in \u001b[0;36m<module>\u001b[0;34m\u001b[0m\n\u001b[0;32m----> 1\u001b[0;31m \u001b[0mchange_trainable_layers\u001b[0m\u001b[0;34m(\u001b[0m\u001b[0mtransfer_model\u001b[0m\u001b[0;34m,\u001b[0m \u001b[0;36m19\u001b[0m\u001b[0;34m)\u001b[0m\u001b[0;34m\u001b[0m\u001b[0m\n\u001b[0m\u001b[1;32m      2\u001b[0m \u001b[0mprint_model_properties\u001b[0m\u001b[0;34m(\u001b[0m\u001b[0mtransfer_model\u001b[0m\u001b[0;34m)\u001b[0m\u001b[0;34m\u001b[0m\u001b[0m\n",
      "\u001b[0;31mNameError\u001b[0m: name 'change_trainable_layers' is not defined"
     ]
    }
   ],
   "source": [
    "change_trainable_layers(transfer_model, 19)        \n",
    "print_model_properties(transfer_model)"
   ]
  },
  {
   "cell_type": "code",
   "execution_count": 177,
   "metadata": {},
   "outputs": [
    {
     "data": {
      "text/plain": [
       "(16, 150, 150, 3)"
      ]
     },
     "execution_count": 177,
     "metadata": {},
     "output_type": "execute_result"
    }
   ],
   "source": [
    "train_generator[0][0].shape\n"
   ]
  },
  {
   "cell_type": "code",
   "execution_count": 178,
   "metadata": {},
   "outputs": [
    {
     "name": "stdout",
     "output_type": "stream",
     "text": [
      "Epoch 1/10\n",
      "125/125 [==============================] - 266s 2s/step - loss: 1.4955 - accuracy: 0.3588 - val_loss: 1.3533 - val_accuracy: 0.5044\n",
      "Epoch 2/10\n",
      "125/125 [==============================] - 243s 2s/step - loss: 1.2953 - accuracy: 0.5329 - val_loss: 1.2007 - val_accuracy: 0.6302\n",
      "Epoch 3/10\n",
      "125/125 [==============================] - 213s 2s/step - loss: 1.1681 - accuracy: 0.6002 - val_loss: 1.1158 - val_accuracy: 0.6352\n",
      "Epoch 4/10\n",
      "125/125 [==============================] - 213s 2s/step - loss: 1.0700 - accuracy: 0.6437 - val_loss: 1.0496 - val_accuracy: 0.6377\n",
      "Epoch 5/10\n",
      "125/125 [==============================] - 214s 2s/step - loss: 1.0239 - accuracy: 0.6624 - val_loss: 1.0190 - val_accuracy: 0.6818\n",
      "Epoch 6/10\n",
      "125/125 [==============================] - 213s 2s/step - loss: 0.9729 - accuracy: 0.6791 - val_loss: 0.9901 - val_accuracy: 0.6692\n",
      "Epoch 7/10\n",
      "125/125 [==============================] - 212s 2s/step - loss: 0.9316 - accuracy: 0.6953 - val_loss: 0.9707 - val_accuracy: 0.6918\n",
      "Epoch 8/10\n",
      "125/125 [==============================] - 217s 2s/step - loss: 0.8961 - accuracy: 0.7001 - val_loss: 0.9348 - val_accuracy: 0.6918\n",
      "Epoch 9/10\n",
      "125/125 [==============================] - 219s 2s/step - loss: 0.8707 - accuracy: 0.7022 - val_loss: 0.9365 - val_accuracy: 0.6403\n",
      "Epoch 10/10\n",
      "125/125 [==============================] - 217s 2s/step - loss: 0.8396 - accuracy: 0.7191 - val_loss: 0.9192 - val_accuracy: 0.6830\n"
     ]
    }
   ],
   "source": [
    "transfer_model.compile(optimizer='adam', loss=['categorical_crossentropy'], metrics=['accuracy'])\n",
    "mdl_check_trans = ModelCheckpoint(filepath='./logs/best_trans_model.hdf5', save_best_only=True)\n",
    "history = transfer_model.fit(train_generator,\n",
    "            steps_per_epoch=2000 // batch_size,\n",
    "            epochs=10,\n",
    "            validation_data=validation_generator,\n",
    "            validation_steps=800 // batch_size,\n",
    "            verbose = 1,\n",
    "            callbacks=[tensorboard, early_stopping])\n"
   ]
  },
  {
   "cell_type": "code",
   "execution_count": 194,
   "metadata": {},
   "outputs": [
    {
     "name": "stdout",
     "output_type": "stream",
     "text": [
      "W0915 01:00:20.493875 139684686395136 plugin_event_accumulator.py:294] Found more than one graph event per run, or there was a metagraph containing a graph_def, as well as one or more graph events.  Overwriting the graph with the newest event.\n",
      "W0915 01:00:20.506535 139684686395136 plugin_event_accumulator.py:294] Found more than one graph event per run, or there was a metagraph containing a graph_def, as well as one or more graph events.  Overwriting the graph with the newest event.\n",
      "W0915 01:00:20.531183 139684686395136 plugin_event_accumulator.py:294] Found more than one graph event per run, or there was a metagraph containing a graph_def, as well as one or more graph events.  Overwriting the graph with the newest event.\n",
      "W0915 01:00:20.572815 139684686395136 plugin_event_accumulator.py:294] Found more than one graph event per run, or there was a metagraph containing a graph_def, as well as one or more graph events.  Overwriting the graph with the newest event.\n",
      "TensorBoard 1.14.0a20190301 at http://43a7ce3886b3:8889 (Press CTRL+C to quit)\n",
      "^C\n"
     ]
    }
   ],
   "source": [
    "!tensorboard --logdir=logs/ --port=8889"
   ]
  },
  {
   "cell_type": "code",
   "execution_count": null,
   "metadata": {},
   "outputs": [],
   "source": [
    "change_trainable_layers(transfer_model, 18)\n",
    "\n",
    "transfer_model.compile(optimizer='adam', loss=['categorical_crossentropy'], metrics=['accuracy'])\n",
    "mdl_check_trans = ModelCheckpoint(filepath='./logs/best_trans_model.hdf5', save_best_only=True)\n",
    "history = transfer_model.fit(train_generator,\n",
    "            steps_per_epoch=2000 // batch_size,\n",
    "            epochs=10,\n",
    "            validation_data=validation_generator,\n",
    "            validation_steps=800 // batch_size,\n",
    "            verbose = 1,\n",
    "            callbacks=[tensorboard, early_stopping]"
   ]
  },
  {
   "cell_type": "code",
   "execution_count": null,
   "metadata": {},
   "outputs": [],
   "source": []
  },
  {
   "cell_type": "code",
   "execution_count": null,
   "metadata": {},
   "outputs": [],
   "source": []
  },
  {
   "cell_type": "code",
   "execution_count": 190,
   "metadata": {
    "collapsed": true
   },
   "outputs": [
    {
     "name": "stdout",
     "output_type": "stream",
     "text": [
      "Downloading data from https://github.com/fchollet/deep-learning-models/releases/download/v0.4/xception_weights_tf_dim_ordering_tf_kernels_notop.h5\n",
      "83689472/83683744 [==============================] - 39s 0us/step\n",
      "Layer 0 | Name: input_5 | Trainable: True\n",
      "Layer 1 | Name: block1_conv1 | Trainable: True\n",
      "Layer 2 | Name: block1_conv1_bn | Trainable: True\n",
      "Layer 3 | Name: block1_conv1_act | Trainable: True\n",
      "Layer 4 | Name: block1_conv2 | Trainable: True\n",
      "Layer 5 | Name: block1_conv2_bn | Trainable: True\n",
      "Layer 6 | Name: block1_conv2_act | Trainable: True\n",
      "Layer 7 | Name: block2_sepconv1 | Trainable: True\n",
      "Layer 8 | Name: block2_sepconv1_bn | Trainable: True\n",
      "Layer 9 | Name: block2_sepconv2_act | Trainable: True\n",
      "Layer 10 | Name: block2_sepconv2 | Trainable: True\n",
      "Layer 11 | Name: block2_sepconv2_bn | Trainable: True\n",
      "Layer 12 | Name: conv2d_48 | Trainable: True\n",
      "Layer 13 | Name: block2_pool | Trainable: True\n",
      "Layer 14 | Name: batch_normalization_v1 | Trainable: True\n",
      "Layer 15 | Name: add | Trainable: True\n",
      "Layer 16 | Name: block3_sepconv1_act | Trainable: True\n",
      "Layer 17 | Name: block3_sepconv1 | Trainable: True\n",
      "Layer 18 | Name: block3_sepconv1_bn | Trainable: True\n",
      "Layer 19 | Name: block3_sepconv2_act | Trainable: True\n",
      "Layer 20 | Name: block3_sepconv2 | Trainable: True\n",
      "Layer 21 | Name: block3_sepconv2_bn | Trainable: True\n",
      "Layer 22 | Name: conv2d_49 | Trainable: True\n",
      "Layer 23 | Name: block3_pool | Trainable: True\n",
      "Layer 24 | Name: batch_normalization_v1_1 | Trainable: True\n",
      "Layer 25 | Name: add_1 | Trainable: True\n",
      "Layer 26 | Name: block4_sepconv1_act | Trainable: True\n",
      "Layer 27 | Name: block4_sepconv1 | Trainable: True\n",
      "Layer 28 | Name: block4_sepconv1_bn | Trainable: True\n",
      "Layer 29 | Name: block4_sepconv2_act | Trainable: True\n",
      "Layer 30 | Name: block4_sepconv2 | Trainable: True\n",
      "Layer 31 | Name: block4_sepconv2_bn | Trainable: True\n",
      "Layer 32 | Name: conv2d_50 | Trainable: True\n",
      "Layer 33 | Name: block4_pool | Trainable: True\n",
      "Layer 34 | Name: batch_normalization_v1_2 | Trainable: True\n",
      "Layer 35 | Name: add_2 | Trainable: True\n",
      "Layer 36 | Name: block5_sepconv1_act | Trainable: True\n",
      "Layer 37 | Name: block5_sepconv1 | Trainable: True\n",
      "Layer 38 | Name: block5_sepconv1_bn | Trainable: True\n",
      "Layer 39 | Name: block5_sepconv2_act | Trainable: True\n",
      "Layer 40 | Name: block5_sepconv2 | Trainable: True\n",
      "Layer 41 | Name: block5_sepconv2_bn | Trainable: True\n",
      "Layer 42 | Name: block5_sepconv3_act | Trainable: True\n",
      "Layer 43 | Name: block5_sepconv3 | Trainable: True\n",
      "Layer 44 | Name: block5_sepconv3_bn | Trainable: True\n",
      "Layer 45 | Name: add_3 | Trainable: True\n",
      "Layer 46 | Name: block6_sepconv1_act | Trainable: True\n",
      "Layer 47 | Name: block6_sepconv1 | Trainable: True\n",
      "Layer 48 | Name: block6_sepconv1_bn | Trainable: True\n",
      "Layer 49 | Name: block6_sepconv2_act | Trainable: True\n",
      "Layer 50 | Name: block6_sepconv2 | Trainable: True\n",
      "Layer 51 | Name: block6_sepconv2_bn | Trainable: True\n",
      "Layer 52 | Name: block6_sepconv3_act | Trainable: True\n",
      "Layer 53 | Name: block6_sepconv3 | Trainable: True\n",
      "Layer 54 | Name: block6_sepconv3_bn | Trainable: True\n",
      "Layer 55 | Name: add_4 | Trainable: True\n",
      "Layer 56 | Name: block7_sepconv1_act | Trainable: True\n",
      "Layer 57 | Name: block7_sepconv1 | Trainable: True\n",
      "Layer 58 | Name: block7_sepconv1_bn | Trainable: True\n",
      "Layer 59 | Name: block7_sepconv2_act | Trainable: True\n",
      "Layer 60 | Name: block7_sepconv2 | Trainable: True\n",
      "Layer 61 | Name: block7_sepconv2_bn | Trainable: True\n",
      "Layer 62 | Name: block7_sepconv3_act | Trainable: True\n",
      "Layer 63 | Name: block7_sepconv3 | Trainable: True\n",
      "Layer 64 | Name: block7_sepconv3_bn | Trainable: True\n",
      "Layer 65 | Name: add_5 | Trainable: True\n",
      "Layer 66 | Name: block8_sepconv1_act | Trainable: True\n",
      "Layer 67 | Name: block8_sepconv1 | Trainable: True\n",
      "Layer 68 | Name: block8_sepconv1_bn | Trainable: True\n",
      "Layer 69 | Name: block8_sepconv2_act | Trainable: True\n",
      "Layer 70 | Name: block8_sepconv2 | Trainable: True\n",
      "Layer 71 | Name: block8_sepconv2_bn | Trainable: True\n",
      "Layer 72 | Name: block8_sepconv3_act | Trainable: True\n",
      "Layer 73 | Name: block8_sepconv3 | Trainable: True\n",
      "Layer 74 | Name: block8_sepconv3_bn | Trainable: True\n",
      "Layer 75 | Name: add_6 | Trainable: True\n",
      "Layer 76 | Name: block9_sepconv1_act | Trainable: True\n",
      "Layer 77 | Name: block9_sepconv1 | Trainable: True\n",
      "Layer 78 | Name: block9_sepconv1_bn | Trainable: True\n",
      "Layer 79 | Name: block9_sepconv2_act | Trainable: True\n",
      "Layer 80 | Name: block9_sepconv2 | Trainable: True\n",
      "Layer 81 | Name: block9_sepconv2_bn | Trainable: True\n",
      "Layer 82 | Name: block9_sepconv3_act | Trainable: True\n",
      "Layer 83 | Name: block9_sepconv3 | Trainable: True\n",
      "Layer 84 | Name: block9_sepconv3_bn | Trainable: True\n",
      "Layer 85 | Name: add_7 | Trainable: True\n",
      "Layer 86 | Name: block10_sepconv1_act | Trainable: True\n",
      "Layer 87 | Name: block10_sepconv1 | Trainable: True\n",
      "Layer 88 | Name: block10_sepconv1_bn | Trainable: True\n",
      "Layer 89 | Name: block10_sepconv2_act | Trainable: True\n",
      "Layer 90 | Name: block10_sepconv2 | Trainable: True\n",
      "Layer 91 | Name: block10_sepconv2_bn | Trainable: True\n",
      "Layer 92 | Name: block10_sepconv3_act | Trainable: True\n",
      "Layer 93 | Name: block10_sepconv3 | Trainable: True\n",
      "Layer 94 | Name: block10_sepconv3_bn | Trainable: True\n",
      "Layer 95 | Name: add_8 | Trainable: True\n",
      "Layer 96 | Name: block11_sepconv1_act | Trainable: True\n",
      "Layer 97 | Name: block11_sepconv1 | Trainable: True\n",
      "Layer 98 | Name: block11_sepconv1_bn | Trainable: True\n",
      "Layer 99 | Name: block11_sepconv2_act | Trainable: True\n",
      "Layer 100 | Name: block11_sepconv2 | Trainable: True\n",
      "Layer 101 | Name: block11_sepconv2_bn | Trainable: True\n",
      "Layer 102 | Name: block11_sepconv3_act | Trainable: True\n",
      "Layer 103 | Name: block11_sepconv3 | Trainable: True\n",
      "Layer 104 | Name: block11_sepconv3_bn | Trainable: True\n",
      "Layer 105 | Name: add_9 | Trainable: True\n",
      "Layer 106 | Name: block12_sepconv1_act | Trainable: True\n",
      "Layer 107 | Name: block12_sepconv1 | Trainable: True\n",
      "Layer 108 | Name: block12_sepconv1_bn | Trainable: True\n",
      "Layer 109 | Name: block12_sepconv2_act | Trainable: True\n",
      "Layer 110 | Name: block12_sepconv2 | Trainable: True\n",
      "Layer 111 | Name: block12_sepconv2_bn | Trainable: True\n",
      "Layer 112 | Name: block12_sepconv3_act | Trainable: True\n",
      "Layer 113 | Name: block12_sepconv3 | Trainable: True\n",
      "Layer 114 | Name: block12_sepconv3_bn | Trainable: True\n",
      "Layer 115 | Name: add_10 | Trainable: True\n",
      "Layer 116 | Name: block13_sepconv1_act | Trainable: True\n",
      "Layer 117 | Name: block13_sepconv1 | Trainable: True\n",
      "Layer 118 | Name: block13_sepconv1_bn | Trainable: True\n",
      "Layer 119 | Name: block13_sepconv2_act | Trainable: True\n",
      "Layer 120 | Name: block13_sepconv2 | Trainable: True\n",
      "Layer 121 | Name: block13_sepconv2_bn | Trainable: True\n",
      "Layer 122 | Name: conv2d_51 | Trainable: True\n",
      "Layer 123 | Name: block13_pool | Trainable: True\n",
      "Layer 124 | Name: batch_normalization_v1_3 | Trainable: True\n",
      "Layer 125 | Name: add_11 | Trainable: True\n",
      "Layer 126 | Name: block14_sepconv1 | Trainable: True\n",
      "Layer 127 | Name: block14_sepconv1_bn | Trainable: True\n",
      "Layer 128 | Name: block14_sepconv1_act | Trainable: True\n",
      "Layer 129 | Name: block14_sepconv2 | Trainable: True\n",
      "Layer 130 | Name: block14_sepconv2_bn | Trainable: True\n",
      "Layer 131 | Name: block14_sepconv2_act | Trainable: True\n",
      "Layer 132 | Name: global_average_pooling2d_3 | Trainable: True\n",
      "Layer 133 | Name: dense_31 | Trainable: True\n"
     ]
    }
   ],
   "source": [
    "transfer_model = create_transfer_model(input_size=(150,150,3), n_categories=5, trans_model=Xception)\n",
    "print_model_properties(transfer_model)\n"
   ]
  },
  {
   "cell_type": "code",
   "execution_count": 191,
   "metadata": {
    "collapsed": true
   },
   "outputs": [
    {
     "name": "stdout",
     "output_type": "stream",
     "text": [
      "Layer 0 | Name: input_5 | Trainable: False\n",
      "Layer 1 | Name: block1_conv1 | Trainable: False\n",
      "Layer 2 | Name: block1_conv1_bn | Trainable: False\n",
      "Layer 3 | Name: block1_conv1_act | Trainable: False\n",
      "Layer 4 | Name: block1_conv2 | Trainable: False\n",
      "Layer 5 | Name: block1_conv2_bn | Trainable: False\n",
      "Layer 6 | Name: block1_conv2_act | Trainable: False\n",
      "Layer 7 | Name: block2_sepconv1 | Trainable: False\n",
      "Layer 8 | Name: block2_sepconv1_bn | Trainable: False\n",
      "Layer 9 | Name: block2_sepconv2_act | Trainable: False\n",
      "Layer 10 | Name: block2_sepconv2 | Trainable: False\n",
      "Layer 11 | Name: block2_sepconv2_bn | Trainable: False\n",
      "Layer 12 | Name: conv2d_48 | Trainable: False\n",
      "Layer 13 | Name: block2_pool | Trainable: False\n",
      "Layer 14 | Name: batch_normalization_v1 | Trainable: False\n",
      "Layer 15 | Name: add | Trainable: False\n",
      "Layer 16 | Name: block3_sepconv1_act | Trainable: False\n",
      "Layer 17 | Name: block3_sepconv1 | Trainable: False\n",
      "Layer 18 | Name: block3_sepconv1_bn | Trainable: False\n",
      "Layer 19 | Name: block3_sepconv2_act | Trainable: False\n",
      "Layer 20 | Name: block3_sepconv2 | Trainable: False\n",
      "Layer 21 | Name: block3_sepconv2_bn | Trainable: False\n",
      "Layer 22 | Name: conv2d_49 | Trainable: False\n",
      "Layer 23 | Name: block3_pool | Trainable: False\n",
      "Layer 24 | Name: batch_normalization_v1_1 | Trainable: False\n",
      "Layer 25 | Name: add_1 | Trainable: False\n",
      "Layer 26 | Name: block4_sepconv1_act | Trainable: False\n",
      "Layer 27 | Name: block4_sepconv1 | Trainable: False\n",
      "Layer 28 | Name: block4_sepconv1_bn | Trainable: False\n",
      "Layer 29 | Name: block4_sepconv2_act | Trainable: False\n",
      "Layer 30 | Name: block4_sepconv2 | Trainable: False\n",
      "Layer 31 | Name: block4_sepconv2_bn | Trainable: False\n",
      "Layer 32 | Name: conv2d_50 | Trainable: False\n",
      "Layer 33 | Name: block4_pool | Trainable: False\n",
      "Layer 34 | Name: batch_normalization_v1_2 | Trainable: False\n",
      "Layer 35 | Name: add_2 | Trainable: False\n",
      "Layer 36 | Name: block5_sepconv1_act | Trainable: False\n",
      "Layer 37 | Name: block5_sepconv1 | Trainable: False\n",
      "Layer 38 | Name: block5_sepconv1_bn | Trainable: False\n",
      "Layer 39 | Name: block5_sepconv2_act | Trainable: False\n",
      "Layer 40 | Name: block5_sepconv2 | Trainable: False\n",
      "Layer 41 | Name: block5_sepconv2_bn | Trainable: False\n",
      "Layer 42 | Name: block5_sepconv3_act | Trainable: False\n",
      "Layer 43 | Name: block5_sepconv3 | Trainable: False\n",
      "Layer 44 | Name: block5_sepconv3_bn | Trainable: False\n",
      "Layer 45 | Name: add_3 | Trainable: False\n",
      "Layer 46 | Name: block6_sepconv1_act | Trainable: False\n",
      "Layer 47 | Name: block6_sepconv1 | Trainable: False\n",
      "Layer 48 | Name: block6_sepconv1_bn | Trainable: False\n",
      "Layer 49 | Name: block6_sepconv2_act | Trainable: False\n",
      "Layer 50 | Name: block6_sepconv2 | Trainable: False\n",
      "Layer 51 | Name: block6_sepconv2_bn | Trainable: False\n",
      "Layer 52 | Name: block6_sepconv3_act | Trainable: False\n",
      "Layer 53 | Name: block6_sepconv3 | Trainable: False\n",
      "Layer 54 | Name: block6_sepconv3_bn | Trainable: False\n",
      "Layer 55 | Name: add_4 | Trainable: False\n",
      "Layer 56 | Name: block7_sepconv1_act | Trainable: False\n",
      "Layer 57 | Name: block7_sepconv1 | Trainable: False\n",
      "Layer 58 | Name: block7_sepconv1_bn | Trainable: False\n",
      "Layer 59 | Name: block7_sepconv2_act | Trainable: False\n",
      "Layer 60 | Name: block7_sepconv2 | Trainable: False\n",
      "Layer 61 | Name: block7_sepconv2_bn | Trainable: False\n",
      "Layer 62 | Name: block7_sepconv3_act | Trainable: False\n",
      "Layer 63 | Name: block7_sepconv3 | Trainable: False\n",
      "Layer 64 | Name: block7_sepconv3_bn | Trainable: False\n",
      "Layer 65 | Name: add_5 | Trainable: False\n",
      "Layer 66 | Name: block8_sepconv1_act | Trainable: False\n",
      "Layer 67 | Name: block8_sepconv1 | Trainable: False\n",
      "Layer 68 | Name: block8_sepconv1_bn | Trainable: False\n",
      "Layer 69 | Name: block8_sepconv2_act | Trainable: False\n",
      "Layer 70 | Name: block8_sepconv2 | Trainable: False\n",
      "Layer 71 | Name: block8_sepconv2_bn | Trainable: False\n",
      "Layer 72 | Name: block8_sepconv3_act | Trainable: False\n",
      "Layer 73 | Name: block8_sepconv3 | Trainable: False\n",
      "Layer 74 | Name: block8_sepconv3_bn | Trainable: False\n",
      "Layer 75 | Name: add_6 | Trainable: False\n",
      "Layer 76 | Name: block9_sepconv1_act | Trainable: False\n",
      "Layer 77 | Name: block9_sepconv1 | Trainable: False\n",
      "Layer 78 | Name: block9_sepconv1_bn | Trainable: False\n",
      "Layer 79 | Name: block9_sepconv2_act | Trainable: False\n",
      "Layer 80 | Name: block9_sepconv2 | Trainable: False\n",
      "Layer 81 | Name: block9_sepconv2_bn | Trainable: False\n",
      "Layer 82 | Name: block9_sepconv3_act | Trainable: False\n",
      "Layer 83 | Name: block9_sepconv3 | Trainable: False\n",
      "Layer 84 | Name: block9_sepconv3_bn | Trainable: False\n",
      "Layer 85 | Name: add_7 | Trainable: False\n",
      "Layer 86 | Name: block10_sepconv1_act | Trainable: False\n",
      "Layer 87 | Name: block10_sepconv1 | Trainable: False\n",
      "Layer 88 | Name: block10_sepconv1_bn | Trainable: False\n",
      "Layer 89 | Name: block10_sepconv2_act | Trainable: False\n",
      "Layer 90 | Name: block10_sepconv2 | Trainable: False\n",
      "Layer 91 | Name: block10_sepconv2_bn | Trainable: False\n",
      "Layer 92 | Name: block10_sepconv3_act | Trainable: False\n",
      "Layer 93 | Name: block10_sepconv3 | Trainable: False\n",
      "Layer 94 | Name: block10_sepconv3_bn | Trainable: False\n",
      "Layer 95 | Name: add_8 | Trainable: False\n",
      "Layer 96 | Name: block11_sepconv1_act | Trainable: False\n",
      "Layer 97 | Name: block11_sepconv1 | Trainable: False\n",
      "Layer 98 | Name: block11_sepconv1_bn | Trainable: False\n",
      "Layer 99 | Name: block11_sepconv2_act | Trainable: False\n",
      "Layer 100 | Name: block11_sepconv2 | Trainable: False\n",
      "Layer 101 | Name: block11_sepconv2_bn | Trainable: False\n",
      "Layer 102 | Name: block11_sepconv3_act | Trainable: False\n",
      "Layer 103 | Name: block11_sepconv3 | Trainable: False\n",
      "Layer 104 | Name: block11_sepconv3_bn | Trainable: False\n",
      "Layer 105 | Name: add_9 | Trainable: False\n",
      "Layer 106 | Name: block12_sepconv1_act | Trainable: False\n",
      "Layer 107 | Name: block12_sepconv1 | Trainable: False\n",
      "Layer 108 | Name: block12_sepconv1_bn | Trainable: False\n",
      "Layer 109 | Name: block12_sepconv2_act | Trainable: False\n",
      "Layer 110 | Name: block12_sepconv2 | Trainable: False\n",
      "Layer 111 | Name: block12_sepconv2_bn | Trainable: False\n",
      "Layer 112 | Name: block12_sepconv3_act | Trainable: False\n",
      "Layer 113 | Name: block12_sepconv3 | Trainable: False\n",
      "Layer 114 | Name: block12_sepconv3_bn | Trainable: False\n",
      "Layer 115 | Name: add_10 | Trainable: False\n",
      "Layer 116 | Name: block13_sepconv1_act | Trainable: False\n",
      "Layer 117 | Name: block13_sepconv1 | Trainable: False\n",
      "Layer 118 | Name: block13_sepconv1_bn | Trainable: False\n",
      "Layer 119 | Name: block13_sepconv2_act | Trainable: False\n",
      "Layer 120 | Name: block13_sepconv2 | Trainable: False\n",
      "Layer 121 | Name: block13_sepconv2_bn | Trainable: False\n",
      "Layer 122 | Name: conv2d_51 | Trainable: False\n",
      "Layer 123 | Name: block13_pool | Trainable: False\n",
      "Layer 124 | Name: batch_normalization_v1_3 | Trainable: False\n",
      "Layer 125 | Name: add_11 | Trainable: False\n",
      "Layer 126 | Name: block14_sepconv1 | Trainable: False\n",
      "Layer 127 | Name: block14_sepconv1_bn | Trainable: False\n",
      "Layer 128 | Name: block14_sepconv1_act | Trainable: False\n",
      "Layer 129 | Name: block14_sepconv2 | Trainable: False\n",
      "Layer 130 | Name: block14_sepconv2_bn | Trainable: False\n",
      "Layer 131 | Name: block14_sepconv2_act | Trainable: False\n",
      "Layer 132 | Name: global_average_pooling2d_3 | Trainable: True\n",
      "Layer 133 | Name: dense_31 | Trainable: True\n"
     ]
    }
   ],
   "source": [
    "change_trainable_layers(transfer_model, 132)        \n",
    "print_model_properties(transfer_model)"
   ]
  },
  {
   "cell_type": "code",
   "execution_count": 195,
   "metadata": {},
   "outputs": [
    {
     "name": "stdout",
     "output_type": "stream",
     "text": [
      "Epoch 1/10\n",
      "125/125 [==============================] - 140s 1s/step - loss: 0.7799 - accuracy: 0.7303 - val_loss: 0.7522 - val_accuracy: 0.8063\n",
      "Epoch 2/10\n",
      "125/125 [==============================] - 123s 981ms/step - loss: 0.6823 - accuracy: 0.7596 - val_loss: 0.8413 - val_accuracy: 0.8013\n",
      "Epoch 3/10\n",
      "125/125 [==============================] - 126s 1s/step - loss: 0.6276 - accuracy: 0.7888 - val_loss: 1.0093 - val_accuracy: 0.7862\n"
     ]
    }
   ],
   "source": [
    "transfer_model.compile(optimizer='adam', loss=['categorical_crossentropy'], metrics=['accuracy'])\n",
    "mdl_check_trans = ModelCheckpoint(filepath='./logs/best_trans_model.hdf5', save_best_only=True)\n",
    "history = transfer_model.fit(train_generator,\n",
    "            steps_per_epoch=2000 // batch_size,\n",
    "            epochs=10,\n",
    "            validation_data=validation_generator,\n",
    "            validation_steps=800 // batch_size,\n",
    "            verbose = 1,\n",
    "            callbacks=[tensorboard, early_stopping])"
   ]
  },
  {
   "cell_type": "code",
   "execution_count": 196,
   "metadata": {},
   "outputs": [
    {
     "name": "stdout",
     "output_type": "stream",
     "text": [
      "Epoch 1/10\n",
      "125/125 [==============================] - 154s 1s/step - loss: 0.5742 - accuracy: 0.8062 - val_loss: 1.2703 - val_accuracy: 0.7761\n",
      "Epoch 2/10\n",
      "125/125 [==============================] - 142s 1s/step - loss: 0.2556 - accuracy: 0.9083 - val_loss: 1.3459 - val_accuracy: 0.6994\n",
      "Epoch 3/10\n",
      "125/125 [==============================] - 143s 1s/step - loss: 0.1834 - accuracy: 0.9446 - val_loss: 0.9056 - val_accuracy: 0.8302\n",
      "Epoch 4/10\n",
      "125/125 [==============================] - 141s 1s/step - loss: 0.1324 - accuracy: 0.9585 - val_loss: 1.3677 - val_accuracy: 0.7887\n",
      "Epoch 5/10\n",
      "125/125 [==============================] - 145s 1s/step - loss: 0.1080 - accuracy: 0.9636 - val_loss: 0.9385 - val_accuracy: 0.8239\n"
     ]
    }
   ],
   "source": [
    "change_trainable_layers(transfer_model, 126)\n",
    "transfer_model.compile(optimizer='adam', loss=['categorical_crossentropy'], metrics=['accuracy'])\n",
    "mdl_check_trans = ModelCheckpoint(filepath='./logs/best_trans_model.hdf5', save_best_only=True)\n",
    "history = transfer_model.fit(train_generator,\n",
    "            steps_per_epoch=2000 // batch_size,\n",
    "            epochs=10,\n",
    "            validation_data=validation_generator,\n",
    "            validation_steps=800 // batch_size,\n",
    "            verbose = 1,\n",
    "            callbacks=[tensorboard, early_stopping])"
   ]
  },
  {
   "cell_type": "code",
   "execution_count": 198,
   "metadata": {},
   "outputs": [
    {
     "name": "stdout",
     "output_type": "stream",
     "text": [
      "Epoch 1/10\n",
      "125/125 [==============================] - 173s 1s/step - loss: 0.1607 - accuracy: 0.9453 - val_loss: 3.1235 - val_accuracy: 0.7358\n",
      "Epoch 2/10\n",
      "125/125 [==============================] - 161s 1s/step - loss: 0.1796 - accuracy: 0.9433 - val_loss: 1.5940 - val_accuracy: 0.8289\n",
      "Epoch 3/10\n",
      "125/125 [==============================] - 145s 1s/step - loss: 0.1356 - accuracy: 0.9590 - val_loss: 1.2068 - val_accuracy: 0.8314\n",
      "Epoch 4/10\n",
      "125/125 [==============================] - 141s 1s/step - loss: 0.1237 - accuracy: 0.9575 - val_loss: 1.2069 - val_accuracy: 0.8189\n",
      "Epoch 5/10\n",
      "125/125 [==============================] - 144s 1s/step - loss: 0.1128 - accuracy: 0.9676 - val_loss: 1.3399 - val_accuracy: 0.8189\n"
     ]
    }
   ],
   "source": [
    "change_trainable_layers(transfer_model, 124)\n",
    "transfer_model.compile(optimizer='adam', loss=['categorical_crossentropy'], metrics=['accuracy'])\n",
    "mdl_check_trans = ModelCheckpoint(filepath='./logs/best_trans_model.hdf5', save_best_only=True)\n",
    "history = transfer_model.fit(train_generator,\n",
    "            steps_per_epoch=2000 // batch_size,\n",
    "            epochs=10,\n",
    "            validation_data=validation_generator,\n",
    "            validation_steps=800 // batch_size,\n",
    "            verbose = 1,\n",
    "            callbacks=[tensorboard, early_stopping])"
   ]
  },
  {
   "cell_type": "code",
   "execution_count": null,
   "metadata": {},
   "outputs": [],
   "source": [
    "# change_trainable_layers(transfer_model, 122)\n",
    "# transfer_model.compile(optimizer='adam', loss=['categorical_crossentropy'], metrics=['accuracy'])\n",
    "# mdl_check_trans = ModelCheckpoint(filepath='./logs/best_trans_model.hdf5', save_best_only=True)\n",
    "# history = transfer_model.fit(train_generator,\n",
    "#             steps_per_epoch=2000 // batch_size,\n",
    "#             epochs=100,\n",
    "#             validation_data=validation_generator,\n",
    "#             validation_steps=800 // batch_size,\n",
    "#             verbose = 1,\n",
    "#             callbacks=[tensorboard, early_stopping])"
   ]
  },
  {
   "cell_type": "code",
   "execution_count": null,
   "metadata": {},
   "outputs": [
    {
     "name": "stdout",
     "output_type": "stream",
     "text": [
      "W0915 15:50:17.836256 140429586364160 plugin_event_accumulator.py:294] Found more than one graph event per run, or there was a metagraph containing a graph_def, as well as one or more graph events.  Overwriting the graph with the newest event.\n",
      "W0915 15:50:17.862065 140429586364160 plugin_event_accumulator.py:294] Found more than one graph event per run, or there was a metagraph containing a graph_def, as well as one or more graph events.  Overwriting the graph with the newest event.\n",
      "W0915 15:50:17.901167 140429586364160 plugin_event_accumulator.py:294] Found more than one graph event per run, or there was a metagraph containing a graph_def, as well as one or more graph events.  Overwriting the graph with the newest event.\n",
      "TensorBoard 1.14.0a20190301 at http://43a7ce3886b3:8889 (Press CTRL+C to quit)\n",
      "W0915 15:50:17.977506 140429586364160 plugin_event_accumulator.py:294] Found more than one graph event per run, or there was a metagraph containing a graph_def, as well as one or more graph events.  Overwriting the graph with the newest event.\n",
      "W0915 15:50:18.257641 140429586364160 plugin_event_accumulator.py:294] Found more than one graph event per run, or there was a metagraph containing a graph_def, as well as one or more graph events.  Overwriting the graph with the newest event.\n",
      "W0915 15:50:18.483581 140429586364160 plugin_event_accumulator.py:294] Found more than one graph event per run, or there was a metagraph containing a graph_def, as well as one or more graph events.  Overwriting the graph with the newest event.\n",
      "W0915 15:50:18.832851 140429586364160 plugin_event_accumulator.py:294] Found more than one graph event per run, or there was a metagraph containing a graph_def, as well as one or more graph events.  Overwriting the graph with the newest event.\n",
      "W0915 15:50:19.221442 140429586364160 plugin_event_accumulator.py:294] Found more than one graph event per run, or there was a metagraph containing a graph_def, as well as one or more graph events.  Overwriting the graph with the newest event.\n",
      "W0915 15:50:19.809864 140429586364160 plugin_event_accumulator.py:294] Found more than one graph event per run, or there was a metagraph containing a graph_def, as well as one or more graph events.  Overwriting the graph with the newest event.\n",
      "W0915 15:50:20.271631 140429586364160 plugin_event_accumulator.py:294] Found more than one graph event per run, or there was a metagraph containing a graph_def, as well as one or more graph events.  Overwriting the graph with the newest event.\n"
     ]
    }
   ],
   "source": [
    "!tensorboard --logdir=logs/ --port=8889"
   ]
  },
  {
   "cell_type": "code",
   "execution_count": null,
   "metadata": {},
   "outputs": [],
   "source": []
  }
 ],
 "metadata": {
  "kernelspec": {
   "display_name": "Python 3",
   "language": "python",
   "name": "python3"
  },
  "language_info": {
   "codemirror_mode": {
    "name": "ipython",
    "version": 3
   },
   "file_extension": ".py",
   "mimetype": "text/x-python",
   "name": "python",
   "nbconvert_exporter": "python",
   "pygments_lexer": "ipython3",
   "version": "3.5.2"
  }
 },
 "nbformat": 4,
 "nbformat_minor": 2
}
