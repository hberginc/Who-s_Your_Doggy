{
 "cells": [
  {
   "cell_type": "code",
   "execution_count": 44,
   "metadata": {},
   "outputs": [
    {
     "ename": "ImportError",
     "evalue": "cannot import name 'evaluate_model'",
     "output_type": "error",
     "traceback": [
      "\u001b[0;31m\u001b[0m",
      "\u001b[0;31mImportError\u001b[0mTraceback (most recent call last)",
      "\u001b[0;32m<ipython-input-44-703b1f7e463b>\u001b[0m in \u001b[0;36m<module>\u001b[0;34m\u001b[0m\n\u001b[1;32m     28\u001b[0m \u001b[0;34m\u001b[0m\u001b[0m\n\u001b[1;32m     29\u001b[0m \u001b[0;32mfrom\u001b[0m \u001b[0msrc\u001b[0m\u001b[0;34m.\u001b[0m\u001b[0mhelper_functions\u001b[0m \u001b[0;32mimport\u001b[0m \u001b[0;34m*\u001b[0m\u001b[0;34m\u001b[0m\u001b[0m\n\u001b[0;32m---> 30\u001b[0;31m \u001b[0;32mfrom\u001b[0m \u001b[0msrc\u001b[0m\u001b[0;34m.\u001b[0m\u001b[0mbuild_models\u001b[0m \u001b[0;32mimport\u001b[0m \u001b[0mevaluate_model\u001b[0m\u001b[0;34m\u001b[0m\u001b[0m\n\u001b[0m\u001b[1;32m     31\u001b[0m \u001b[0;34m\u001b[0m\u001b[0m\n\u001b[1;32m     32\u001b[0m \u001b[0;32mfrom\u001b[0m \u001b[0mdatetime\u001b[0m \u001b[0;32mimport\u001b[0m \u001b[0mdatetime\u001b[0m\u001b[0;34m\u001b[0m\u001b[0m\n",
      "\u001b[0;31mImportError\u001b[0m: cannot import name 'evaluate_model'"
     ]
    }
   ],
   "source": [
    "from tensorflow import keras\n",
    "from tensorflow.keras.preprocessing.image import (ImageDataGenerator, \n",
    "                                                  array_to_img, img_to_array, \n",
    "                                                  load_img) \n",
    "from tensorflow.keras.models import Sequential, Model\n",
    "from tensorflow.keras.layers import Conv2D, MaxPooling2D, GlobalAveragePooling2D, BatchNormalization\n",
    "from tensorflow.keras.layers import Activation, Dropout, Flatten, Dense\n",
    "from tensorflow.keras.datasets import mnist\n",
    "from tensorflow.keras.utils import to_categorical\n",
    "from tensorflow.keras import backend as K\n",
    "import pandas as pd\n",
    "import numpy as np\n",
    "import matplotlib.pyplot as plt\n",
    "\n",
    "import os\n",
    "\n",
    "import warnings\n",
    "warnings.filterwarnings(\"ignore\")\n",
    "\n",
    "import matplotlib.image as mpimg\n",
    "import pathlib\n",
    "from tensorflow.keras.applications.xception import preprocess_input\n",
    "from tensorflow.keras.callbacks import TensorBoard, EarlyStopping, ModelCheckpoint\n",
    "import tensorflow as tf\n",
    "from tensorflow.keras.applications import VGG16, Xception\n",
    "from tensorflow.keras.utils import plot_model\n",
    "\n",
    "\n",
    "from src.helper_functions import *\n",
    "from src.build_models import *\n",
    "\n",
    "from datetime import datetime\n",
    "import datetime\n",
    "import time"
   ]
  },
  {
   "cell_type": "code",
   "execution_count": 2,
   "metadata": {},
   "outputs": [
    {
     "name": "stdout",
     "output_type": "stream",
     "text": [
      "Found 3034 images belonging to 25 classes.\n",
      "Found 650 images belonging to 25 classes.\n",
      "Found 665 images belonging to 25 classes.\n"
     ]
    }
   ],
   "source": [
    "train_generator, validation_generator, holdout_generator = create_data_gens(train_dir = \"../images/Images/train\",  val_dir = '../images/Images/val', holdout_dir = '../images/Images/test', batch_size = 16)"
   ]
  },
  {
   "cell_type": "code",
   "execution_count": 3,
   "metadata": {},
   "outputs": [],
   "source": [
    "tensorboard, early_stopping = create_callbacks(file_path = \"./logs/\")"
   ]
  },
  {
   "cell_type": "code",
   "execution_count": 4,
   "metadata": {},
   "outputs": [],
   "source": [
    "basic_cnn_model = basic_cnn(25)"
   ]
  },
  {
   "cell_type": "code",
   "execution_count": 5,
   "metadata": {},
   "outputs": [],
   "source": [
    "basic_transfer_model = basic_transfer_model(input_size = (150,150,3), n_categories = 25, trans_model = Xception)"
   ]
  },
  {
   "cell_type": "code",
   "execution_count": 6,
   "metadata": {},
   "outputs": [],
   "source": [
    "complex_transfer_model = create_new_transfer_model(input_size = (150,150,3), n_categories = 25, trans_model = Xception)"
   ]
  },
  {
   "cell_type": "code",
   "execution_count": 10,
   "metadata": {
    "collapsed": true
   },
   "outputs": [
    {
     "name": "stdout",
     "output_type": "stream",
     "text": [
      "Layer 0 | Name: input_1 | Trainable: True\n",
      "Layer 1 | Name: block1_conv1 | Trainable: True\n",
      "Layer 2 | Name: block1_conv1_bn | Trainable: True\n",
      "Layer 3 | Name: block1_conv1_act | Trainable: True\n",
      "Layer 4 | Name: block1_conv2 | Trainable: True\n",
      "Layer 5 | Name: block1_conv2_bn | Trainable: True\n",
      "Layer 6 | Name: block1_conv2_act | Trainable: True\n",
      "Layer 7 | Name: block2_sepconv1 | Trainable: True\n",
      "Layer 8 | Name: block2_sepconv1_bn | Trainable: True\n",
      "Layer 9 | Name: block2_sepconv2_act | Trainable: True\n",
      "Layer 10 | Name: block2_sepconv2 | Trainable: True\n",
      "Layer 11 | Name: block2_sepconv2_bn | Trainable: True\n",
      "Layer 12 | Name: conv2d_3 | Trainable: True\n",
      "Layer 13 | Name: block2_pool | Trainable: True\n",
      "Layer 14 | Name: batch_normalization_v1 | Trainable: True\n",
      "Layer 15 | Name: add | Trainable: True\n",
      "Layer 16 | Name: block3_sepconv1_act | Trainable: True\n",
      "Layer 17 | Name: block3_sepconv1 | Trainable: True\n",
      "Layer 18 | Name: block3_sepconv1_bn | Trainable: True\n",
      "Layer 19 | Name: block3_sepconv2_act | Trainable: True\n",
      "Layer 20 | Name: block3_sepconv2 | Trainable: True\n",
      "Layer 21 | Name: block3_sepconv2_bn | Trainable: True\n",
      "Layer 22 | Name: conv2d_4 | Trainable: True\n",
      "Layer 23 | Name: block3_pool | Trainable: True\n",
      "Layer 24 | Name: batch_normalization_v1_1 | Trainable: True\n",
      "Layer 25 | Name: add_1 | Trainable: True\n",
      "Layer 26 | Name: block4_sepconv1_act | Trainable: True\n",
      "Layer 27 | Name: block4_sepconv1 | Trainable: True\n",
      "Layer 28 | Name: block4_sepconv1_bn | Trainable: True\n",
      "Layer 29 | Name: block4_sepconv2_act | Trainable: True\n",
      "Layer 30 | Name: block4_sepconv2 | Trainable: True\n",
      "Layer 31 | Name: block4_sepconv2_bn | Trainable: True\n",
      "Layer 32 | Name: conv2d_5 | Trainable: True\n",
      "Layer 33 | Name: block4_pool | Trainable: True\n",
      "Layer 34 | Name: batch_normalization_v1_2 | Trainable: True\n",
      "Layer 35 | Name: add_2 | Trainable: True\n",
      "Layer 36 | Name: block5_sepconv1_act | Trainable: True\n",
      "Layer 37 | Name: block5_sepconv1 | Trainable: True\n",
      "Layer 38 | Name: block5_sepconv1_bn | Trainable: True\n",
      "Layer 39 | Name: block5_sepconv2_act | Trainable: True\n",
      "Layer 40 | Name: block5_sepconv2 | Trainable: True\n",
      "Layer 41 | Name: block5_sepconv2_bn | Trainable: True\n",
      "Layer 42 | Name: block5_sepconv3_act | Trainable: True\n",
      "Layer 43 | Name: block5_sepconv3 | Trainable: True\n",
      "Layer 44 | Name: block5_sepconv3_bn | Trainable: True\n",
      "Layer 45 | Name: add_3 | Trainable: True\n",
      "Layer 46 | Name: block6_sepconv1_act | Trainable: True\n",
      "Layer 47 | Name: block6_sepconv1 | Trainable: True\n",
      "Layer 48 | Name: block6_sepconv1_bn | Trainable: True\n",
      "Layer 49 | Name: block6_sepconv2_act | Trainable: True\n",
      "Layer 50 | Name: block6_sepconv2 | Trainable: True\n",
      "Layer 51 | Name: block6_sepconv2_bn | Trainable: True\n",
      "Layer 52 | Name: block6_sepconv3_act | Trainable: True\n",
      "Layer 53 | Name: block6_sepconv3 | Trainable: True\n",
      "Layer 54 | Name: block6_sepconv3_bn | Trainable: True\n",
      "Layer 55 | Name: add_4 | Trainable: True\n",
      "Layer 56 | Name: block7_sepconv1_act | Trainable: True\n",
      "Layer 57 | Name: block7_sepconv1 | Trainable: True\n",
      "Layer 58 | Name: block7_sepconv1_bn | Trainable: True\n",
      "Layer 59 | Name: block7_sepconv2_act | Trainable: True\n",
      "Layer 60 | Name: block7_sepconv2 | Trainable: True\n",
      "Layer 61 | Name: block7_sepconv2_bn | Trainable: True\n",
      "Layer 62 | Name: block7_sepconv3_act | Trainable: True\n",
      "Layer 63 | Name: block7_sepconv3 | Trainable: True\n",
      "Layer 64 | Name: block7_sepconv3_bn | Trainable: True\n",
      "Layer 65 | Name: add_5 | Trainable: True\n",
      "Layer 66 | Name: block8_sepconv1_act | Trainable: True\n",
      "Layer 67 | Name: block8_sepconv1 | Trainable: True\n",
      "Layer 68 | Name: block8_sepconv1_bn | Trainable: True\n",
      "Layer 69 | Name: block8_sepconv2_act | Trainable: True\n",
      "Layer 70 | Name: block8_sepconv2 | Trainable: True\n",
      "Layer 71 | Name: block8_sepconv2_bn | Trainable: True\n",
      "Layer 72 | Name: block8_sepconv3_act | Trainable: True\n",
      "Layer 73 | Name: block8_sepconv3 | Trainable: True\n",
      "Layer 74 | Name: block8_sepconv3_bn | Trainable: True\n",
      "Layer 75 | Name: add_6 | Trainable: True\n",
      "Layer 76 | Name: block9_sepconv1_act | Trainable: True\n",
      "Layer 77 | Name: block9_sepconv1 | Trainable: True\n",
      "Layer 78 | Name: block9_sepconv1_bn | Trainable: True\n",
      "Layer 79 | Name: block9_sepconv2_act | Trainable: True\n",
      "Layer 80 | Name: block9_sepconv2 | Trainable: True\n",
      "Layer 81 | Name: block9_sepconv2_bn | Trainable: True\n",
      "Layer 82 | Name: block9_sepconv3_act | Trainable: True\n",
      "Layer 83 | Name: block9_sepconv3 | Trainable: True\n",
      "Layer 84 | Name: block9_sepconv3_bn | Trainable: True\n",
      "Layer 85 | Name: add_7 | Trainable: True\n",
      "Layer 86 | Name: block10_sepconv1_act | Trainable: True\n",
      "Layer 87 | Name: block10_sepconv1 | Trainable: True\n",
      "Layer 88 | Name: block10_sepconv1_bn | Trainable: True\n",
      "Layer 89 | Name: block10_sepconv2_act | Trainable: True\n",
      "Layer 90 | Name: block10_sepconv2 | Trainable: True\n",
      "Layer 91 | Name: block10_sepconv2_bn | Trainable: True\n",
      "Layer 92 | Name: block10_sepconv3_act | Trainable: True\n",
      "Layer 93 | Name: block10_sepconv3 | Trainable: True\n",
      "Layer 94 | Name: block10_sepconv3_bn | Trainable: True\n",
      "Layer 95 | Name: add_8 | Trainable: True\n",
      "Layer 96 | Name: block11_sepconv1_act | Trainable: True\n",
      "Layer 97 | Name: block11_sepconv1 | Trainable: True\n",
      "Layer 98 | Name: block11_sepconv1_bn | Trainable: True\n",
      "Layer 99 | Name: block11_sepconv2_act | Trainable: True\n",
      "Layer 100 | Name: block11_sepconv2 | Trainable: True\n",
      "Layer 101 | Name: block11_sepconv2_bn | Trainable: True\n",
      "Layer 102 | Name: block11_sepconv3_act | Trainable: True\n",
      "Layer 103 | Name: block11_sepconv3 | Trainable: True\n",
      "Layer 104 | Name: block11_sepconv3_bn | Trainable: True\n",
      "Layer 105 | Name: add_9 | Trainable: True\n",
      "Layer 106 | Name: block12_sepconv1_act | Trainable: True\n",
      "Layer 107 | Name: block12_sepconv1 | Trainable: True\n",
      "Layer 108 | Name: block12_sepconv1_bn | Trainable: True\n",
      "Layer 109 | Name: block12_sepconv2_act | Trainable: True\n",
      "Layer 110 | Name: block12_sepconv2 | Trainable: True\n",
      "Layer 111 | Name: block12_sepconv2_bn | Trainable: True\n",
      "Layer 112 | Name: block12_sepconv3_act | Trainable: True\n",
      "Layer 113 | Name: block12_sepconv3 | Trainable: True\n",
      "Layer 114 | Name: block12_sepconv3_bn | Trainable: True\n",
      "Layer 115 | Name: add_10 | Trainable: True\n",
      "Layer 116 | Name: block13_sepconv1_act | Trainable: True\n",
      "Layer 117 | Name: block13_sepconv1 | Trainable: True\n",
      "Layer 118 | Name: block13_sepconv1_bn | Trainable: True\n",
      "Layer 119 | Name: block13_sepconv2_act | Trainable: True\n",
      "Layer 120 | Name: block13_sepconv2 | Trainable: True\n",
      "Layer 121 | Name: block13_sepconv2_bn | Trainable: True\n",
      "Layer 122 | Name: conv2d_6 | Trainable: True\n",
      "Layer 123 | Name: block13_pool | Trainable: True\n",
      "Layer 124 | Name: batch_normalization_v1_3 | Trainable: True\n",
      "Layer 125 | Name: add_11 | Trainable: True\n",
      "Layer 126 | Name: block14_sepconv1 | Trainable: True\n",
      "Layer 127 | Name: block14_sepconv1_bn | Trainable: True\n",
      "Layer 128 | Name: block14_sepconv1_act | Trainable: True\n",
      "Layer 129 | Name: block14_sepconv2 | Trainable: True\n",
      "Layer 130 | Name: block14_sepconv2_bn | Trainable: True\n",
      "Layer 131 | Name: block14_sepconv2_act | Trainable: True\n",
      "Layer 132 | Name: global_average_pooling2d | Trainable: True\n",
      "Layer 133 | Name: dense_2 | Trainable: True\n"
     ]
    }
   ],
   "source": [
    "print_model_properties(basic_transfer_model)"
   ]
  },
  {
   "cell_type": "code",
   "execution_count": 11,
   "metadata": {},
   "outputs": [],
   "source": [
    "change_trainable_layers(basic_transfer_model, 130)"
   ]
  },
  {
   "cell_type": "code",
   "execution_count": 19,
   "metadata": {
    "collapsed": true
   },
   "outputs": [
    {
     "name": "stdout",
     "output_type": "stream",
     "text": [
      "Layer 0 | Name: input_1 | Trainable: False\n",
      "Layer 1 | Name: block1_conv1 | Trainable: False\n",
      "Layer 2 | Name: block1_conv1_bn | Trainable: False\n",
      "Layer 3 | Name: block1_conv1_act | Trainable: False\n",
      "Layer 4 | Name: block1_conv2 | Trainable: False\n",
      "Layer 5 | Name: block1_conv2_bn | Trainable: False\n",
      "Layer 6 | Name: block1_conv2_act | Trainable: False\n",
      "Layer 7 | Name: block2_sepconv1 | Trainable: False\n",
      "Layer 8 | Name: block2_sepconv1_bn | Trainable: False\n",
      "Layer 9 | Name: block2_sepconv2_act | Trainable: False\n",
      "Layer 10 | Name: block2_sepconv2 | Trainable: False\n",
      "Layer 11 | Name: block2_sepconv2_bn | Trainable: False\n",
      "Layer 12 | Name: conv2d_3 | Trainable: False\n",
      "Layer 13 | Name: block2_pool | Trainable: False\n",
      "Layer 14 | Name: batch_normalization_v1 | Trainable: False\n",
      "Layer 15 | Name: add | Trainable: False\n",
      "Layer 16 | Name: block3_sepconv1_act | Trainable: False\n",
      "Layer 17 | Name: block3_sepconv1 | Trainable: False\n",
      "Layer 18 | Name: block3_sepconv1_bn | Trainable: False\n",
      "Layer 19 | Name: block3_sepconv2_act | Trainable: False\n",
      "Layer 20 | Name: block3_sepconv2 | Trainable: False\n",
      "Layer 21 | Name: block3_sepconv2_bn | Trainable: False\n",
      "Layer 22 | Name: conv2d_4 | Trainable: False\n",
      "Layer 23 | Name: block3_pool | Trainable: False\n",
      "Layer 24 | Name: batch_normalization_v1_1 | Trainable: False\n",
      "Layer 25 | Name: add_1 | Trainable: False\n",
      "Layer 26 | Name: block4_sepconv1_act | Trainable: False\n",
      "Layer 27 | Name: block4_sepconv1 | Trainable: False\n",
      "Layer 28 | Name: block4_sepconv1_bn | Trainable: False\n",
      "Layer 29 | Name: block4_sepconv2_act | Trainable: False\n",
      "Layer 30 | Name: block4_sepconv2 | Trainable: False\n",
      "Layer 31 | Name: block4_sepconv2_bn | Trainable: False\n",
      "Layer 32 | Name: conv2d_5 | Trainable: False\n",
      "Layer 33 | Name: block4_pool | Trainable: False\n",
      "Layer 34 | Name: batch_normalization_v1_2 | Trainable: False\n",
      "Layer 35 | Name: add_2 | Trainable: False\n",
      "Layer 36 | Name: block5_sepconv1_act | Trainable: False\n",
      "Layer 37 | Name: block5_sepconv1 | Trainable: False\n",
      "Layer 38 | Name: block5_sepconv1_bn | Trainable: False\n",
      "Layer 39 | Name: block5_sepconv2_act | Trainable: False\n",
      "Layer 40 | Name: block5_sepconv2 | Trainable: False\n",
      "Layer 41 | Name: block5_sepconv2_bn | Trainable: False\n",
      "Layer 42 | Name: block5_sepconv3_act | Trainable: False\n",
      "Layer 43 | Name: block5_sepconv3 | Trainable: False\n",
      "Layer 44 | Name: block5_sepconv3_bn | Trainable: False\n",
      "Layer 45 | Name: add_3 | Trainable: False\n",
      "Layer 46 | Name: block6_sepconv1_act | Trainable: False\n",
      "Layer 47 | Name: block6_sepconv1 | Trainable: False\n",
      "Layer 48 | Name: block6_sepconv1_bn | Trainable: False\n",
      "Layer 49 | Name: block6_sepconv2_act | Trainable: False\n",
      "Layer 50 | Name: block6_sepconv2 | Trainable: False\n",
      "Layer 51 | Name: block6_sepconv2_bn | Trainable: False\n",
      "Layer 52 | Name: block6_sepconv3_act | Trainable: False\n",
      "Layer 53 | Name: block6_sepconv3 | Trainable: False\n",
      "Layer 54 | Name: block6_sepconv3_bn | Trainable: False\n",
      "Layer 55 | Name: add_4 | Trainable: False\n",
      "Layer 56 | Name: block7_sepconv1_act | Trainable: False\n",
      "Layer 57 | Name: block7_sepconv1 | Trainable: False\n",
      "Layer 58 | Name: block7_sepconv1_bn | Trainable: False\n",
      "Layer 59 | Name: block7_sepconv2_act | Trainable: False\n",
      "Layer 60 | Name: block7_sepconv2 | Trainable: False\n",
      "Layer 61 | Name: block7_sepconv2_bn | Trainable: False\n",
      "Layer 62 | Name: block7_sepconv3_act | Trainable: False\n",
      "Layer 63 | Name: block7_sepconv3 | Trainable: False\n",
      "Layer 64 | Name: block7_sepconv3_bn | Trainable: False\n",
      "Layer 65 | Name: add_5 | Trainable: False\n",
      "Layer 66 | Name: block8_sepconv1_act | Trainable: False\n",
      "Layer 67 | Name: block8_sepconv1 | Trainable: False\n",
      "Layer 68 | Name: block8_sepconv1_bn | Trainable: False\n",
      "Layer 69 | Name: block8_sepconv2_act | Trainable: False\n",
      "Layer 70 | Name: block8_sepconv2 | Trainable: False\n",
      "Layer 71 | Name: block8_sepconv2_bn | Trainable: False\n",
      "Layer 72 | Name: block8_sepconv3_act | Trainable: False\n",
      "Layer 73 | Name: block8_sepconv3 | Trainable: False\n",
      "Layer 74 | Name: block8_sepconv3_bn | Trainable: False\n",
      "Layer 75 | Name: add_6 | Trainable: False\n",
      "Layer 76 | Name: block9_sepconv1_act | Trainable: False\n",
      "Layer 77 | Name: block9_sepconv1 | Trainable: False\n",
      "Layer 78 | Name: block9_sepconv1_bn | Trainable: False\n",
      "Layer 79 | Name: block9_sepconv2_act | Trainable: False\n",
      "Layer 80 | Name: block9_sepconv2 | Trainable: False\n",
      "Layer 81 | Name: block9_sepconv2_bn | Trainable: False\n",
      "Layer 82 | Name: block9_sepconv3_act | Trainable: False\n",
      "Layer 83 | Name: block9_sepconv3 | Trainable: False\n",
      "Layer 84 | Name: block9_sepconv3_bn | Trainable: False\n",
      "Layer 85 | Name: add_7 | Trainable: False\n",
      "Layer 86 | Name: block10_sepconv1_act | Trainable: False\n",
      "Layer 87 | Name: block10_sepconv1 | Trainable: False\n",
      "Layer 88 | Name: block10_sepconv1_bn | Trainable: False\n",
      "Layer 89 | Name: block10_sepconv2_act | Trainable: False\n",
      "Layer 90 | Name: block10_sepconv2 | Trainable: False\n",
      "Layer 91 | Name: block10_sepconv2_bn | Trainable: False\n",
      "Layer 92 | Name: block10_sepconv3_act | Trainable: False\n",
      "Layer 93 | Name: block10_sepconv3 | Trainable: False\n",
      "Layer 94 | Name: block10_sepconv3_bn | Trainable: False\n",
      "Layer 95 | Name: add_8 | Trainable: False\n",
      "Layer 96 | Name: block11_sepconv1_act | Trainable: False\n",
      "Layer 97 | Name: block11_sepconv1 | Trainable: False\n",
      "Layer 98 | Name: block11_sepconv1_bn | Trainable: False\n",
      "Layer 99 | Name: block11_sepconv2_act | Trainable: False\n",
      "Layer 100 | Name: block11_sepconv2 | Trainable: False\n",
      "Layer 101 | Name: block11_sepconv2_bn | Trainable: False\n",
      "Layer 102 | Name: block11_sepconv3_act | Trainable: False\n",
      "Layer 103 | Name: block11_sepconv3 | Trainable: False\n",
      "Layer 104 | Name: block11_sepconv3_bn | Trainable: False\n",
      "Layer 105 | Name: add_9 | Trainable: False\n",
      "Layer 106 | Name: block12_sepconv1_act | Trainable: False\n",
      "Layer 107 | Name: block12_sepconv1 | Trainable: False\n",
      "Layer 108 | Name: block12_sepconv1_bn | Trainable: False\n",
      "Layer 109 | Name: block12_sepconv2_act | Trainable: False\n",
      "Layer 110 | Name: block12_sepconv2 | Trainable: False\n",
      "Layer 111 | Name: block12_sepconv2_bn | Trainable: False\n",
      "Layer 112 | Name: block12_sepconv3_act | Trainable: False\n",
      "Layer 113 | Name: block12_sepconv3 | Trainable: False\n",
      "Layer 114 | Name: block12_sepconv3_bn | Trainable: False\n",
      "Layer 115 | Name: add_10 | Trainable: False\n",
      "Layer 116 | Name: block13_sepconv1_act | Trainable: False\n",
      "Layer 117 | Name: block13_sepconv1 | Trainable: False\n",
      "Layer 118 | Name: block13_sepconv1_bn | Trainable: False\n",
      "Layer 119 | Name: block13_sepconv2_act | Trainable: False\n",
      "Layer 120 | Name: block13_sepconv2 | Trainable: False\n",
      "Layer 121 | Name: block13_sepconv2_bn | Trainable: False\n",
      "Layer 122 | Name: conv2d_6 | Trainable: False\n",
      "Layer 123 | Name: block13_pool | Trainable: False\n",
      "Layer 124 | Name: batch_normalization_v1_3 | Trainable: False\n",
      "Layer 125 | Name: add_11 | Trainable: False\n",
      "Layer 126 | Name: block14_sepconv1 | Trainable: False\n",
      "Layer 127 | Name: block14_sepconv1_bn | Trainable: False\n",
      "Layer 128 | Name: block14_sepconv1_act | Trainable: False\n",
      "Layer 129 | Name: block14_sepconv2 | Trainable: False\n",
      "Layer 130 | Name: block14_sepconv2_bn | Trainable: True\n",
      "Layer 131 | Name: block14_sepconv2_act | Trainable: True\n",
      "Layer 132 | Name: global_average_pooling2d | Trainable: True\n",
      "Layer 133 | Name: dense_2 | Trainable: True\n"
     ]
    }
   ],
   "source": [
    "print_model_properties(basic_transfer_model)"
   ]
  },
  {
   "cell_type": "code",
   "execution_count": 21,
   "metadata": {},
   "outputs": [
    {
     "name": "stdout",
     "output_type": "stream",
     "text": [
      "Epoch 1/3\n",
      "202/202 [==============================] - 395s 2s/step - loss: 2.0938 - accuracy: 0.4330 - val_loss: 1.1811 - val_accuracy: 0.7219\n",
      "Epoch 2/3\n",
      "202/202 [==============================] - 359s 2s/step - loss: 1.5525 - accuracy: 0.5671 - val_loss: 1.4724 - val_accuracy: 0.7281\n",
      "Epoch 3/3\n",
      "202/202 [==============================] - 343s 2s/step - loss: 1.3689 - accuracy: 0.6148 - val_loss: 1.5288 - val_accuracy: 0.7344\n"
     ]
    }
   ],
   "source": [
    "basic_transfer_model.compile(optimizer='adam', loss=['categorical_crossentropy'], metrics=['accuracy'])\n",
    "mdl_check_trans = ModelCheckpoint(filepath='./logs/best_trans_model.hdf5', save_best_only=True)\n",
    "history = basic_transfer_model.fit(train_generator,\n",
    "            steps_per_epoch=3034 // 15,\n",
    "            epochs=3,\n",
    "            validation_data=validation_generator,\n",
    "            validation_steps=650 // 16,\n",
    "            verbose = 1,\n",
    "            callbacks=[tensorboard, early_stopping])"
   ]
  },
  {
   "cell_type": "code",
   "execution_count": 41,
   "metadata": {},
   "outputs": [
    {
     "data": {
      "image/png": "[encoded data removed]",
      "text/plain": [
       "<Figure size 576x576 with 2 Axes>"
      ]
     },
     "metadata": {
      "needs_background": "light"
     },
     "output_type": "display_data"
    }
   ],
   "source": [
    "plot_acc_loss_per_epoch(history, epochs = 3)\n"
   ]
  },
  {
   "cell_type": "code",
   "execution_count": 31,
   "metadata": {},
   "outputs": [],
   "source": [
    "# plot_model(basic_transfer_model, show_shapes=True, show_layer_names=True)\n",
    "# to_file='model.png'"
   ]
  },
  {
   "cell_type": "code",
   "execution_count": 40,
   "metadata": {},
   "outputs": [
    {
     "ename": "AttributeError",
     "evalue": "'function' object has no attribute 'evaluate'",
     "output_type": "error",
     "traceback": [
      "\u001b[0;31m\u001b[0m",
      "\u001b[0;31mAttributeError\u001b[0mTraceback (most recent call last)",
      "\u001b[0;32m<ipython-input-40-213ee1aabff7>\u001b[0m in \u001b[0;36m<module>\u001b[0;34m\u001b[0m\n\u001b[1;32m      1\u001b[0m \u001b[0;31m# Evaluate Model on Test Data\u001b[0m\u001b[0;34m\u001b[0m\u001b[0;34m\u001b[0m\u001b[0m\n\u001b[1;32m      2\u001b[0m \u001b[0;34m\u001b[0m\u001b[0m\n\u001b[0;32m----> 3\u001b[0;31m \u001b[0mtest_predictions\u001b[0m \u001b[0;34m=\u001b[0m \u001b[0mbasic_transfer_model\u001b[0m\u001b[0;34m.\u001b[0m\u001b[0mevaluate\u001b[0m\u001b[0;34m(\u001b[0m\u001b[0mholdout_generator\u001b[0m\u001b[0;34m)\u001b[0m\u001b[0;34m\u001b[0m\u001b[0m\n\u001b[0m\u001b[1;32m      4\u001b[0m \u001b[0;34m\u001b[0m\u001b[0m\n\u001b[1;32m      5\u001b[0m \u001b[0;31m# # get model predictions\u001b[0m\u001b[0;34m\u001b[0m\u001b[0;34m\u001b[0m\u001b[0m\n",
      "\u001b[0;31mAttributeError\u001b[0m: 'function' object has no attribute 'evaluate'"
     ]
    }
   ],
   "source": [
    "# Evaluate Model on Test Data\n",
    "\n",
    "test_predictions = basic_transfer_model.evaluate(holdout_generator)\n",
    "\n",
    "# # get model predictions\n",
    "# predictions = le.classes_[np.argmax(test_predictions,axis=1)] # get labels and reverse back to get the text labels\n",
    "# # get target labels\n",
    "# target_labels = le.classes_[np.argmax(y_test,axis=1)]\n",
    "\n",
    "# # Store in dataframe\n",
    "# predict_df = pd.DataFrame({'Target_Labels': target_labels, 'Predictions': predictions})\n",
    "# predict_df.head(20)\n",
    "\n"
   ]
  },
  {
   "cell_type": "code",
   "execution_count": 43,
   "metadata": {},
   "outputs": [
    {
     "ename": "NameError",
     "evalue": "name 'evaluate_model' is not defined",
     "output_type": "error",
     "traceback": [
      "\u001b[0;31m\u001b[0m",
      "\u001b[0;31mNameError\u001b[0mTraceback (most recent call last)",
      "\u001b[0;32m<ipython-input-43-cb6e42b64e98>\u001b[0m in \u001b[0;36m<module>\u001b[0;34m\u001b[0m\n\u001b[0;32m----> 1\u001b[0;31m \u001b[0mevaluate_model\u001b[0m\u001b[0;34m(\u001b[0m\u001b[0mbasic_transfer_model\u001b[0m\u001b[0;34m,\u001b[0m\u001b[0mholdout_generator\u001b[0m\u001b[0;34m)\u001b[0m\u001b[0;34m\u001b[0m\u001b[0m\n\u001b[0m",
      "\u001b[0;31mNameError\u001b[0m: name 'evaluate_model' is not defined"
     ]
    }
   ],
   "source": [
    "evaluate_model(basic_transfer_model,holdout_generator)"
   ]
  },
  {
   "cell_type": "code",
   "execution_count": null,
   "metadata": {},
   "outputs": [],
   "source": []
  }
 ],
 "metadata": {
  "kernelspec": {
   "display_name": "Python 3",
   "language": "python",
   "name": "python3"
  },
  "language_info": {
   "codemirror_mode": {
    "name": "ipython",
    "version": 3
   },
   "file_extension": ".py",
   "mimetype": "text/x-python",
   "name": "python",
   "nbconvert_exporter": "python",
   "pygments_lexer": "ipython3",
   "version": "3.5.2"
  }
 },
 "nbformat": 4,
 "nbformat_minor": 2
}
