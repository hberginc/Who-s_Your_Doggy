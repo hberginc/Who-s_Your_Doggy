{
 "cells": [
  {
   "cell_type": "code",
   "execution_count": 148,
   "metadata": {},
   "outputs": [],
   "source": [
    "from tensorflow import keras\n",
    "from tensorflow.keras.preprocessing.image import (ImageDataGenerator, \n",
    "                                                  array_to_img, img_to_array, \n",
    "                                                  load_img) \n",
    "from tensorflow.keras.models import Sequential, Model\n",
    "from tensorflow.keras.layers import Conv2D, MaxPooling2D, GlobalAveragePooling2D\n",
    "from tensorflow.keras.layers import Activation, Dropout, Flatten, Dense\n",
    "from tensorflow.keras.datasets import mnist\n",
    "from tensorflow.keras.utils import to_categorical\n",
    "from tensorflow.keras import backend as K\n",
    "import pandas as pd\n",
    "import numpy as np\n",
    "import matplotlib.pyplot as plt\n",
    "\n",
    "import os\n",
    "\n",
    "import warnings\n",
    "warnings.filterwarnings(\"ignore\")\n",
    "\n",
    "import matplotlib.image as mpimg\n",
    "import pathlib\n",
    "from tensorflow.keras.applications.xception import preprocess_input\n",
    "from tensorflow.keras.callbacks import TensorBoard, EarlyStopping, ModelCheckpoint\n"
   ]
  },
  {
   "cell_type": "markdown",
   "metadata": {},
   "source": [
    "\n",
    "    rotation_range is a value in degrees (0-180), a range within which to randomly rotate pictures\n",
    "    width_shift and height_shift are ranges (as a fraction of total width or height) within which to randomly translate pictures vertically or horizontally\n",
    "    rescale is a value by which we will multiply the data before any other processing. Our original images consist in RGB coefficients in the 0-255, but such values would be too high for our models to process (given a typical learning rate), so we target values between 0 and 1 instead by scaling with a 1/255. factor.\n",
    "    shear_range is for randomly applying shearing transformations\n",
    "    zoom_range is for randomly zooming inside pictures\n",
    "    horizontal_flip is for randomly flipping half of the images horizontally --relevant when there are no assumptions of horizontal assymetry (e.g. real-world pictures).\n",
    "    fill_mode is the strategy used for filling in newly created pixels, which can appear after a rotation or a width/height shift.\n"
   ]
  },
  {
   "cell_type": "code",
   "execution_count": 150,
   "metadata": {},
   "outputs": [],
   "source": [
    "datagen = ImageDataGenerator(\n",
    "        rotation_range=40,\n",
    "        width_shift_range=0.2,\n",
    "        height_shift_range=0.2,\n",
    "        rescale = 1/255,\n",
    "        shear_range = 0.2,\n",
    "        zoom_range=0.2,\n",
    "        horizontal_flip=True,\n",
    "        fill_mode='nearest'\n",
    "        )"
   ]
  },
  {
   "cell_type": "code",
   "execution_count": 171,
   "metadata": {},
   "outputs": [
    {
     "name": "stderr",
     "output_type": "stream",
     "text": [
      "W0915 00:00:16.864140 140576549357312 callbacks.py:1191] `write_grads` will be ignored in TensorFlow 2.0 for the `TensorBoard` Callback.\n",
      "W0915 00:00:16.866708 140576549357312 callbacks.py:1197] `batch_size` is no longer needed in the `TensorBoard` Callback and will be ignored in TensorFlow 2.0.\n"
     ]
    }
   ],
   "source": [
    "#  Added for Tensorboard\n",
    "tensorboard = TensorBoard(log_dir='./logs',\n",
    "                          histogram_freq=2,\n",
    "                          batch_size=16,\n",
    "                          write_graph=True,\n",
    "                          write_grads=True,\n",
    "                          write_images=True,\n",
    "\n",
    "                         ) \n",
    "early_stopping = EarlyStopping(restore_best_weights = True, patience = 2, monitor='val_loss')\n",
    "# modified for Tensorboard\n"
   ]
  },
  {
   "cell_type": "code",
   "execution_count": 164,
   "metadata": {},
   "outputs": [],
   "source": [
    "model = Sequential()\n",
    "model.add(Conv2D(32, (3, 3), input_shape=(150, 150, 3)))\n",
    "model.add(Activation('relu'))\n",
    "model.add(MaxPooling2D(pool_size=(2, 2)))\n",
    "model.add(Conv2D(32, (3, 3)))\n",
    "model.add(Activation('relu'))\n",
    "model.add(MaxPooling2D(pool_size=(2, 2)))\n",
    "\n",
    "model.add(Conv2D(64, (3, 3)))\n",
    "model.add(Activation('relu'))\n",
    "model.add(MaxPooling2D(pool_size=(2, 2)))\n",
    "\n",
    "model.add(Flatten())  # this converts our 3D feature maps to 1D feature vectors\n",
    "model.add(Dense(64))\n",
    "model.add(Activation('relu'))\n",
    "model.add(Dropout(0.5))\n",
    "model.add(Dense(5))\n",
    "model.add(Activation('softmax'))\n",
    "\n",
    "loss_fn = keras.losses.CategoricalCrossentropy(\n",
    "    from_logits=False,\n",
    "    label_smoothing=0,\n",
    "    reduction=\"auto\",\n",
    "    name=\"categorical_crossentropy\",\n",
    ")\n",
    "\n",
    "model.compile(loss=loss_fn, optimizer='adam', metrics=['accuracy'])\n",
    "\n",
    "# the model so far outputs 3D feature maps (height, width, features)"
   ]
  },
  {
   "cell_type": "code",
   "execution_count": 165,
   "metadata": {},
   "outputs": [
    {
     "name": "stdout",
     "output_type": "stream",
     "text": [
      "Found 664 images belonging to 5 classes.\n",
      "Found 143 images belonging to 5 classes.\n"
     ]
    }
   ],
   "source": [
    "batch_size = 16\n",
    "\n",
    "# this is the augmentation configuration we will use for training\n",
    "train_datagen = ImageDataGenerator(\n",
    "        rescale=1./255,\n",
    "        shear_range=0.2,\n",
    "        zoom_range=0.2,\n",
    "        horizontal_flip=True)\n",
    "\n",
    "# this is the augmentation configuration we will use for testing:\n",
    "# only rescaling\n",
    "test_datagen = ImageDataGenerator(rescale=1./255)\n",
    "\n",
    "# this is a generator that will read pictures found in\n",
    "# subfolers of 'data/train', and indefinitely generate\n",
    "# batches of augmented image data\n",
    "train_generator = train_datagen.flow_from_directory(\n",
    "        '../images/Images/train',  # this is the target directory\n",
    "        target_size=(150, 150),  # all images will be resized to 150x150\n",
    "        batch_size=batch_size,\n",
    "        class_mode='categorical')  # since we use CategoricalCrossentropy loss, we need categorical labels\n",
    "\n",
    "# this is a similar generator, for validation data\n",
    "validation_generator = test_datagen.flow_from_directory(\n",
    "        '../images/Images/val',\n",
    "        target_size=(150, 150),\n",
    "        batch_size=batch_size,\n",
    "        class_mode='categorical')"
   ]
  },
  {
   "cell_type": "code",
   "execution_count": 168,
   "metadata": {},
   "outputs": [
    {
     "name": "stdout",
     "output_type": "stream",
     "text": [
      "Epoch 1/10\n",
      "125/125 [==============================] - 37s 293ms/step - loss: 25.7117 - accuracy: 0.2561 - val_loss: 25.2089 - val_accuracy: 0.2654\n",
      "Epoch 2/10\n",
      "125/125 [==============================] - 45s 362ms/step - loss: 24.7841 - accuracy: 0.2849 - val_loss: 24.4018 - val_accuracy: 0.3799\n",
      "Epoch 3/10\n",
      "125/125 [==============================] - 44s 351ms/step - loss: 23.5933 - accuracy: 0.3350 - val_loss: 23.3956 - val_accuracy: 0.3472\n",
      "Epoch 4/10\n",
      "125/125 [==============================] - 40s 321ms/step - loss: 22.9273 - accuracy: 0.3644 - val_loss: 23.1205 - val_accuracy: 0.3912\n",
      "Epoch 5/10\n",
      "125/125 [==============================] - 38s 302ms/step - loss: 21.4369 - accuracy: 0.4266 - val_loss: 22.4966 - val_accuracy: 0.3547\n",
      "Epoch 6/10\n",
      "125/125 [==============================] - 37s 298ms/step - loss: 20.6065 - accuracy: 0.4560 - val_loss: 21.3186 - val_accuracy: 0.4642\n",
      "Epoch 7/10\n",
      "125/125 [==============================] - 37s 295ms/step - loss: 19.2199 - accuracy: 0.4995 - val_loss: 21.7465 - val_accuracy: 0.4717\n",
      "Epoch 8/10\n",
      "125/125 [==============================] - 37s 297ms/step - loss: 17.7983 - accuracy: 0.5554 - val_loss: 20.3754 - val_accuracy: 0.4780\n",
      "Epoch 9/10\n",
      "125/125 [==============================] - 37s 293ms/step - loss: 17.5876 - accuracy: 0.5498 - val_loss: 22.1395 - val_accuracy: 0.4566\n",
      "Epoch 10/10\n",
      "125/125 [==============================] - 37s 298ms/step - loss: 16.2424 - accuracy: 0.5769 - val_loss: 21.3291 - val_accuracy: 0.4642\n"
     ]
    }
   ],
   "source": [
    "epochs = 10\n",
    "history = model.fit(\n",
    "        train_generator,\n",
    "        steps_per_epoch=2000 // batch_size,\n",
    "        epochs=epochs,\n",
    "        validation_data=validation_generator,\n",
    "        validation_steps=800 // batch_size,\n",
    "        verbose = 1,\n",
    "        callbacks=[tensorboard, early_stopping])\n",
    "# model.save_weights('first_try.h5')  # always save your weights after training or during training"
   ]
  },
  {
   "cell_type": "code",
   "execution_count": 169,
   "metadata": {},
   "outputs": [
    {
     "data": {
      "image/png": "[encoded data removed]",
      "text/plain": [
       "<Figure size 576x576 with 2 Axes>"
      ]
     },
     "metadata": {
      "needs_background": "light"
     },
     "output_type": "display_data"
    }
   ],
   "source": [
    "acc = history.history['accuracy']\n",
    "val_acc = history.history['val_accuracy']\n",
    "\n",
    "loss=history.history['loss']\n",
    "val_loss=history.history['val_loss']\n",
    "\n",
    "epochs_range = range(epochs)\n",
    "\n",
    "plt.figure(figsize=(8, 8))\n",
    "plt.subplot(1, 2, 1)\n",
    "plt.plot(epochs_range, acc, label='Training Accuracy')\n",
    "plt.plot(epochs_range, val_acc, label='Validation Accuracy')\n",
    "plt.legend(loc='lower right')\n",
    "plt.title('Training and Validation Accuracy')\n",
    "\n",
    "plt.subplot(1, 2, 2)\n",
    "plt.plot(epochs_range, loss, label='Training Loss')\n",
    "plt.plot(epochs_range, val_loss, label='Validation Loss')\n",
    "plt.legend(loc='upper right')\n",
    "plt.title('Training and Validation Loss')\n",
    "plt.show()"
   ]
  },
  {
   "cell_type": "code",
   "execution_count": 170,
   "metadata": {},
   "outputs": [
    {
     "name": "stdout",
     "output_type": "stream",
     "text": [
      "Model: \"sequential_17\"\n",
      "_________________________________________________________________\n",
      "Layer (type)                 Output Shape              Param #   \n",
      "=================================================================\n",
      "conv2d_45 (Conv2D)           (None, 148, 148, 32)      896       \n",
      "_________________________________________________________________\n",
      "activation_71 (Activation)   (None, 148, 148, 32)      0         \n",
      "_________________________________________________________________\n",
      "max_pooling2d_45 (MaxPooling (None, 74, 74, 32)        0         \n",
      "_________________________________________________________________\n",
      "conv2d_46 (Conv2D)           (None, 72, 72, 32)        9248      \n",
      "_________________________________________________________________\n",
      "activation_72 (Activation)   (None, 72, 72, 32)        0         \n",
      "_________________________________________________________________\n",
      "max_pooling2d_46 (MaxPooling (None, 36, 36, 32)        0         \n",
      "_________________________________________________________________\n",
      "conv2d_47 (Conv2D)           (None, 34, 34, 64)        18496     \n",
      "_________________________________________________________________\n",
      "activation_73 (Activation)   (None, 34, 34, 64)        0         \n",
      "_________________________________________________________________\n",
      "max_pooling2d_47 (MaxPooling (None, 17, 17, 64)        0         \n",
      "_________________________________________________________________\n",
      "flatten_13 (Flatten)         (None, 18496)             0         \n",
      "_________________________________________________________________\n",
      "dense_28 (Dense)             (None, 64)                1183808   \n",
      "_________________________________________________________________\n",
      "activation_74 (Activation)   (None, 64)                0         \n",
      "_________________________________________________________________\n",
      "dropout_13 (Dropout)         (None, 64)                0         \n",
      "_________________________________________________________________\n",
      "dense_29 (Dense)             (None, 5)                 325       \n",
      "_________________________________________________________________\n",
      "activation_75 (Activation)   (None, 5)                 0         \n",
      "=================================================================\n",
      "Total params: 1,212,773\n",
      "Trainable params: 1,212,773\n",
      "Non-trainable params: 0\n",
      "_________________________________________________________________\n"
     ]
    }
   ],
   "source": [
    "model.summary()"
   ]
  },
  {
   "cell_type": "code",
   "execution_count": 172,
   "metadata": {},
   "outputs": [
    {
     "name": "stdout",
     "output_type": "stream",
     "text": [
      "W0915 00:00:34.606614 140566483171072 plugin_event_accumulator.py:294] Found more than one graph event per run, or there was a metagraph containing a graph_def, as well as one or more graph events.  Overwriting the graph with the newest event.\n",
      "W0915 00:00:34.626572 140566483171072 plugin_event_accumulator.py:294] Found more than one graph event per run, or there was a metagraph containing a graph_def, as well as one or more graph events.  Overwriting the graph with the newest event.\n",
      "TensorBoard 1.14.0a20190301 at http://43a7ce3886b3:8889 (Press CTRL+C to quit)\n",
      "^C\n"
     ]
    }
   ],
   "source": [
    "!tensorboard --logdir=logs/ --port=8889"
   ]
  },
  {
   "cell_type": "markdown",
   "metadata": {},
   "source": [
    "VGG16 architecture, pre-trained on the ImageNet dataset "
   ]
  },
  {
   "cell_type": "code",
   "execution_count": 173,
   "metadata": {},
   "outputs": [],
   "source": [
    "from tensorflow.keras.applications import VGG16, xception\n",
    "\n",
    "\n",
    "\n",
    "def create_transfer_model(input_size, n_categories, weights = 'imagenet', trans_mod=VGG16):\n",
    "        # note that the \"top\" is not included in the weights below\n",
    "        base_model = tras_mod(weights=weights,\n",
    "                          include_top=False,\n",
    "                          input_shape=input_size)\n",
    "        \n",
    "        model = base_model.output\n",
    "        \n",
    "        # add new head\n",
    "        model = GlobalAveragePooling2D()(model)\n",
    "        predictions = Dense(n_categories, activation='softmax')(model)\n",
    "        model = Model(inputs=base_model.input, outputs=predictions)\n",
    "        \n",
    "        return model\n",
    "    \n"
   ]
  },
  {
   "cell_type": "code",
   "execution_count": 174,
   "metadata": {},
   "outputs": [],
   "source": [
    "transfer_model = create_transfer_model(input_size=(150,150,3), n_categories=5)"
   ]
  },
  {
   "cell_type": "code",
   "execution_count": 175,
   "metadata": {},
   "outputs": [
    {
     "name": "stdout",
     "output_type": "stream",
     "text": [
      "Layer 0 | Name: input_4 | Trainable: True\n",
      "Layer 1 | Name: block1_conv1 | Trainable: True\n",
      "Layer 2 | Name: block1_conv2 | Trainable: True\n",
      "Layer 3 | Name: block1_pool | Trainable: True\n",
      "Layer 4 | Name: block2_conv1 | Trainable: True\n",
      "Layer 5 | Name: block2_conv2 | Trainable: True\n",
      "Layer 6 | Name: block2_pool | Trainable: True\n",
      "Layer 7 | Name: block3_conv1 | Trainable: True\n",
      "Layer 8 | Name: block3_conv2 | Trainable: True\n",
      "Layer 9 | Name: block3_conv3 | Trainable: True\n",
      "Layer 10 | Name: block3_pool | Trainable: True\n",
      "Layer 11 | Name: block4_conv1 | Trainable: True\n",
      "Layer 12 | Name: block4_conv2 | Trainable: True\n",
      "Layer 13 | Name: block4_conv3 | Trainable: True\n",
      "Layer 14 | Name: block4_pool | Trainable: True\n",
      "Layer 15 | Name: block5_conv1 | Trainable: True\n",
      "Layer 16 | Name: block5_conv2 | Trainable: True\n",
      "Layer 17 | Name: block5_conv3 | Trainable: True\n",
      "Layer 18 | Name: block5_pool | Trainable: True\n",
      "Layer 19 | Name: global_average_pooling2d_2 | Trainable: True\n",
      "Layer 20 | Name: dense_30 | Trainable: True\n"
     ]
    }
   ],
   "source": [
    "def print_model_properties(model, indices = 0):\n",
    "     for i, layer in enumerate(model.layers[indices:]):\n",
    "        print(\"Layer {} | Name: {} | Trainable: {}\".format(i+indices, layer.name, layer.trainable))\n"
   ]
  },
  {
   "cell_type": "code",
   "execution_count": 176,
   "metadata": {},
   "outputs": [
    {
     "name": "stdout",
     "output_type": "stream",
     "text": [
      "Layer 0 | Name: input_4 | Trainable: False\n",
      "Layer 1 | Name: block1_conv1 | Trainable: False\n",
      "Layer 2 | Name: block1_conv2 | Trainable: False\n",
      "Layer 3 | Name: block1_pool | Trainable: False\n",
      "Layer 4 | Name: block2_conv1 | Trainable: False\n",
      "Layer 5 | Name: block2_conv2 | Trainable: False\n",
      "Layer 6 | Name: block2_pool | Trainable: False\n",
      "Layer 7 | Name: block3_conv1 | Trainable: False\n",
      "Layer 8 | Name: block3_conv2 | Trainable: False\n",
      "Layer 9 | Name: block3_conv3 | Trainable: False\n",
      "Layer 10 | Name: block3_pool | Trainable: False\n",
      "Layer 11 | Name: block4_conv1 | Trainable: False\n",
      "Layer 12 | Name: block4_conv2 | Trainable: False\n",
      "Layer 13 | Name: block4_conv3 | Trainable: False\n",
      "Layer 14 | Name: block4_pool | Trainable: False\n",
      "Layer 15 | Name: block5_conv1 | Trainable: False\n",
      "Layer 16 | Name: block5_conv2 | Trainable: False\n",
      "Layer 17 | Name: block5_conv3 | Trainable: False\n",
      "Layer 18 | Name: block5_pool | Trainable: False\n",
      "Layer 19 | Name: global_average_pooling2d_2 | Trainable: True\n",
      "Layer 20 | Name: dense_30 | Trainable: True\n"
     ]
    }
   ],
   "source": [
    "def change_trainable_layers(model, trainable_index):\n",
    "    for layer in model.layers[:trainable_index]:\n",
    "        layer.trainable = False\n",
    "    for layer in model.layers[trainable_index:]:\n",
    "        layer.trainable = True\n",
    "        \n",
    "        \n",
    "print_model_properties(transfer_model)\n",
    "change_trainable_layers(transfer_model, 19)        \n",
    "print_model_properties(transfer_model)"
   ]
  },
  {
   "cell_type": "code",
   "execution_count": 177,
   "metadata": {},
   "outputs": [
    {
     "data": {
      "text/plain": [
       "(16, 150, 150, 3)"
      ]
     },
     "execution_count": 177,
     "metadata": {},
     "output_type": "execute_result"
    }
   ],
   "source": [
    "train_generator[0][0].shape\n"
   ]
  },
  {
   "cell_type": "code",
   "execution_count": 178,
   "metadata": {},
   "outputs": [
    {
     "name": "stdout",
     "output_type": "stream",
     "text": [
      "Epoch 1/10\n",
      "125/125 [==============================] - 266s 2s/step - loss: 1.4955 - accuracy: 0.3588 - val_loss: 1.3533 - val_accuracy: 0.5044\n",
      "Epoch 2/10\n",
      "125/125 [==============================] - 243s 2s/step - loss: 1.2953 - accuracy: 0.5329 - val_loss: 1.2007 - val_accuracy: 0.6302\n",
      "Epoch 3/10\n",
      "125/125 [==============================] - 213s 2s/step - loss: 1.1681 - accuracy: 0.6002 - val_loss: 1.1158 - val_accuracy: 0.6352\n",
      "Epoch 4/10\n",
      "125/125 [==============================] - 213s 2s/step - loss: 1.0700 - accuracy: 0.6437 - val_loss: 1.0496 - val_accuracy: 0.6377\n",
      "Epoch 5/10\n",
      "125/125 [==============================] - 214s 2s/step - loss: 1.0239 - accuracy: 0.6624 - val_loss: 1.0190 - val_accuracy: 0.6818\n",
      "Epoch 6/10\n",
      "125/125 [==============================] - 213s 2s/step - loss: 0.9729 - accuracy: 0.6791 - val_loss: 0.9901 - val_accuracy: 0.6692\n",
      "Epoch 7/10\n",
      "125/125 [==============================] - 212s 2s/step - loss: 0.9316 - accuracy: 0.6953 - val_loss: 0.9707 - val_accuracy: 0.6918\n",
      "Epoch 8/10\n",
      "125/125 [==============================] - 217s 2s/step - loss: 0.8961 - accuracy: 0.7001 - val_loss: 0.9348 - val_accuracy: 0.6918\n",
      "Epoch 9/10\n",
      "125/125 [==============================] - 219s 2s/step - loss: 0.8707 - accuracy: 0.7022 - val_loss: 0.9365 - val_accuracy: 0.6403\n",
      "Epoch 10/10\n",
      "125/125 [==============================] - 217s 2s/step - loss: 0.8396 - accuracy: 0.7191 - val_loss: 0.9192 - val_accuracy: 0.6830\n"
     ]
    }
   ],
   "source": [
    "transfer_model.compile(optimizer='adam', loss=['categorical_crossentropy'], metrics=['accuracy'])\n",
    "mdl_check_trans = ModelCheckpoint(filepath='./logs/best_trans_model.hdf5', save_best_only=True)\n",
    "history = transfer_model.fit(train_generator,\n",
    "            steps_per_epoch=2000 // batch_size,\n",
    "            epochs=10,\n",
    "            validation_data=validation_generator,\n",
    "            validation_steps=800 // batch_size,\n",
    "            verbose = 1,\n",
    "            callbacks=[tensorboard, early_stopping])\n"
   ]
  },
  {
   "cell_type": "code",
   "execution_count": null,
   "metadata": {},
   "outputs": [
    {
     "name": "stdout",
     "output_type": "stream",
     "text": [
      "W0915 00:41:50.795947 140111684011776 plugin_event_accumulator.py:294] Found more than one graph event per run, or there was a metagraph containing a graph_def, as well as one or more graph events.  Overwriting the graph with the newest event.\n",
      "W0915 00:41:50.822227 140111684011776 plugin_event_accumulator.py:294] Found more than one graph event per run, or there was a metagraph containing a graph_def, as well as one or more graph events.  Overwriting the graph with the newest event.\n",
      "W0915 00:41:50.852664 140111684011776 plugin_event_accumulator.py:294] Found more than one graph event per run, or there was a metagraph containing a graph_def, as well as one or more graph events.  Overwriting the graph with the newest event.\n",
      "TensorBoard 1.14.0a20190301 at http://43a7ce3886b3:8889 (Press CTRL+C to quit)\n"
     ]
    }
   ],
   "source": [
    "!tensorboard --logdir=logs/ --port=8889"
   ]
  },
  {
   "cell_type": "code",
   "execution_count": null,
   "metadata": {},
   "outputs": [],
   "source": [
    "change_trainable_layers(transfer_model, 18)\n",
    "\n",
    "transfer_model.compile(optimizer='adam', loss=['categorical_crossentropy'], metrics=['accuracy'])\n",
    "# mdl_check_trans = ModelCheckpoint(filepath='models/best_trans_model.hdf5',\n",
    "#                             save_best_only=True)\n",
    "history = transfer_model.fit(train_generator,\n",
    "            steps_per_epoch=2000 // batch_size,\n",
    "            epochs=10,\n",
    "            validation_data=validation_generator,\n",
    "            validation_steps=800 // batch_size)\n"
   ]
  },
  {
   "cell_type": "code",
   "execution_count": null,
   "metadata": {},
   "outputs": [],
   "source": []
  },
  {
   "cell_type": "code",
   "execution_count": null,
   "metadata": {},
   "outputs": [],
   "source": []
  },
  {
   "cell_type": "code",
   "execution_count": null,
   "metadata": {},
   "outputs": [],
   "source": [
    "transfer_model = create_transfer_model(input_size=(150,150,3), n_categories=5, trans_mod = xception)\n",
    "print_model_properties(transfer_model)\n",
    "# change_trainable_layers(transfer_model, 19)        \n",
    "# print_model_properties(transfer_model)"
   ]
  }
 ],
 "metadata": {
  "kernelspec": {
   "display_name": "Python 3",
   "language": "python",
   "name": "python3"
  },
  "language_info": {
   "codemirror_mode": {
    "name": "ipython",
    "version": 3
   },
   "file_extension": ".py",
   "mimetype": "text/x-python",
   "name": "python",
   "nbconvert_exporter": "python",
   "pygments_lexer": "ipython3",
   "version": "3.5.2"
  }
 },
 "nbformat": 4,
 "nbformat_minor": 2
}
